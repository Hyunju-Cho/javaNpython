{
 "cells": [
  {
   "cell_type": "code",
   "execution_count": 1,
   "id": "ecfaae72",
   "metadata": {},
   "outputs": [],
   "source": [
    "import pandas as pd\n",
    "\n",
    "train_df=pd.read_excel('fs.xlsx',sheet_name='train')\n",
    "test_df=pd.read_excel('fs.xlsx',sheet_name='test')"
   ]
  },
  {
   "cell_type": "code",
   "execution_count": 2,
   "id": "8a491340",
   "metadata": {},
   "outputs": [
    {
     "name": "stdout",
     "output_type": "stream",
     "text": [
      "    Father      Son\n",
      "0  165.100  151.892\n",
      "1  165.100  160.782\n",
      "2  167.132  159.512\n",
      "3  155.194  163.322\n",
      "4  160.020  163.068\n",
      "    Father      Son\n",
      "0  160.782  160.528\n",
      "1  166.116  162.814\n",
      "2  165.608  164.592\n",
      "3  169.672  166.370\n",
      "4  176.530  166.370\n"
     ]
    }
   ],
   "source": [
    "print(train_df.head())\n",
    "print(test_df.head())"
   ]
  },
  {
   "cell_type": "code",
   "execution_count": 5,
   "id": "fbc084e9",
   "metadata": {},
   "outputs": [],
   "source": [
    "train_input=train_df[['Father']].to_numpy()\n",
    "train_target=train_df['Son'].to_numpy()"
   ]
  },
  {
   "cell_type": "code",
   "execution_count": 6,
   "id": "a5e4e0b6",
   "metadata": {},
   "outputs": [],
   "source": [
    "test_input=test_df[['Father']].to_numpy()\n",
    "test_target=test_df['Son'].to_numpy()"
   ]
  },
  {
   "cell_type": "code",
   "execution_count": 7,
   "id": "01d81e67",
   "metadata": {},
   "outputs": [],
   "source": [
    "from sklearn.linear_model import LinearRegression\n",
    "from sklearn.tree import DecisionTreeRegressor\n",
    "from sklearn.ensemble import RandomForestRegressor"
   ]
  },
  {
   "cell_type": "code",
   "execution_count": 8,
   "id": "601e3b84",
   "metadata": {},
   "outputs": [
    {
     "data": {
      "text/plain": [
       "LinearRegression()"
      ]
     },
     "execution_count": 8,
     "metadata": {},
     "output_type": "execute_result"
    }
   ],
   "source": [
    "lr=LinearRegression()\n",
    "lr.fit(train_input,train_target)"
   ]
  },
  {
   "cell_type": "code",
   "execution_count": 9,
   "id": "c540c04b",
   "metadata": {},
   "outputs": [
    {
     "name": "stdout",
     "output_type": "stream",
     "text": [
      "0.24967004992776776\n",
      "0.2519977905846619\n"
     ]
    }
   ],
   "source": [
    "print(lr.score(train_input,train_target))\n",
    "print(lr.score(test_input,test_target))"
   ]
  },
  {
   "cell_type": "code",
   "execution_count": 10,
   "id": "65458515",
   "metadata": {},
   "outputs": [
    {
     "name": "stdout",
     "output_type": "stream",
     "text": [
      "예측키 =  [168.22133267]\n"
     ]
    }
   ],
   "source": [
    "pred=lr.predict([[160]])\n",
    "print('예측키 = ',pred)"
   ]
  },
  {
   "cell_type": "code",
   "execution_count": 11,
   "id": "e76b7064",
   "metadata": {},
   "outputs": [
    {
     "data": {
      "text/plain": [
       "DecisionTreeRegressor()"
      ]
     },
     "execution_count": 11,
     "metadata": {},
     "output_type": "execute_result"
    }
   ],
   "source": [
    "dt=DecisionTreeRegressor()\n",
    "dt.fit(train_input,train_target)"
   ]
  },
  {
   "cell_type": "code",
   "execution_count": 12,
   "id": "ea01dbbd",
   "metadata": {},
   "outputs": [
    {
     "name": "stdout",
     "output_type": "stream",
     "text": [
      "0.37981060494153207\n",
      "0.07133438875422093\n"
     ]
    }
   ],
   "source": [
    "print(dt.score(train_input,train_target))\n",
    "print(dt.score(test_input,test_target))"
   ]
  },
  {
   "cell_type": "code",
   "execution_count": 13,
   "id": "f3c89286",
   "metadata": {},
   "outputs": [
    {
     "name": "stdout",
     "output_type": "stream",
     "text": [
      "예측키 =  [169.24866667]\n"
     ]
    }
   ],
   "source": [
    "pred=dt.predict([[160]])\n",
    "print('예측키 = ',pred)"
   ]
  },
  {
   "cell_type": "code",
   "execution_count": 14,
   "id": "47188487",
   "metadata": {},
   "outputs": [
    {
     "data": {
      "text/plain": [
       "RandomForestRegressor()"
      ]
     },
     "execution_count": 14,
     "metadata": {},
     "output_type": "execute_result"
    }
   ],
   "source": [
    "rf=RandomForestRegressor()\n",
    "rf.fit(train_input,train_target)"
   ]
  },
  {
   "cell_type": "code",
   "execution_count": 15,
   "id": "8a00b419",
   "metadata": {},
   "outputs": [
    {
     "name": "stdout",
     "output_type": "stream",
     "text": [
      "0.3724419370965655\n",
      "0.11716321836970767\n"
     ]
    }
   ],
   "source": [
    "print(rf.score(train_input,train_target))\n",
    "print(rf.score(test_input,test_target))"
   ]
  },
  {
   "cell_type": "code",
   "execution_count": 16,
   "id": "a5127859",
   "metadata": {},
   "outputs": [
    {
     "name": "stdout",
     "output_type": "stream",
     "text": [
      "예측키 =  [169.34910626]\n"
     ]
    }
   ],
   "source": [
    "pred=rf.predict([[160]])\n",
    "print('예측키 = ',pred)"
   ]
  },
  {
   "cell_type": "code",
   "execution_count": 20,
   "id": "a74ca606",
   "metadata": {},
   "outputs": [
    {
     "data": {
      "image/png": "[encoded data removed]",
      "text/plain": [
       "<Figure size 432x288 with 1 Axes>"
      ]
     },
     "metadata": {
      "needs_background": "light"
     },
     "output_type": "display_data"
    }
   ],
   "source": [
    "import matplotlib.pyplot as plt\n",
    "\n",
    "pred=lr.predict(train_input[:30])\n",
    "\n",
    "plt.scatter(train_input,train_target)\n",
    "plt.plot(train_input[:30],pred,c='#ff0000')\n",
    "plt.xlabel('father')\n",
    "plt.ylabel('son')\n",
    "plt.show()"
   ]
  }
 ],
 "metadata": {
  "kernelspec": {
   "display_name": "Python 3 (ipykernel)",
   "language": "python",
   "name": "python3"
  },
  "language_info": {
   "codemirror_mode": {
    "name": "ipython",
    "version": 3
   },
   "file_extension": ".py",
   "mimetype": "text/x-python",
   "name": "python",
   "nbconvert_exporter": "python",
   "pygments_lexer": "ipython3",
   "version": "3.9.12"
  }
 },
 "nbformat": 4,
 "nbformat_minor": 5
}
