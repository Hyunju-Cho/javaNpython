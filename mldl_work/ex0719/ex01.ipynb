{
 "cells": [
  {
   "cell_type": "markdown",
   "id": "ef1e3cf8",
   "metadata": {},
   "source": [
    "## 특성 공학과 규제"
   ]
  },
  {
   "cell_type": "markdown",
   "id": "715dd92f",
   "metadata": {},
   "source": [
    "**<span style=\"color:red\">다중 선형 회귀</span>**는 여러 개의 독립 변수와 하나의 종속 변수의 선형 관계를 모델링<br>\n",
    "y=W1x1 + W2x2 + ... + Wnxn + b<br><br>\n",
    "(가정)<br><br>\n",
    "**1. 각각의 독립 변수는 종속 변수와의 선형 관계가 존재함<br>\n",
    "2. 독립 변수 사이에는 높은 수준의 상관관계가 존재하지 않아야 함 (관계 분석하기 어려움)<br>\n",
    "3. 잔차(추정 종속 변수 값과 실제 종속 변수 값 차이)가 정규 분포를 이루어야 함**"
   ]
  },
  {
   "cell_type": "markdown",
   "id": "a4515077",
   "metadata": {},
   "source": [
    "### 데이터 준비"
   ]
  },
  {
   "cell_type": "code",
   "execution_count": 3,
   "id": "5b806291",
   "metadata": {},
   "outputs": [],
   "source": [
    "import pandas as pd"
   ]
  },
  {
   "cell_type": "code",
   "execution_count": 4,
   "id": "ea6d8861",
   "metadata": {},
   "outputs": [
    {
     "name": "stdout",
     "output_type": "stream",
     "text": [
      "[[ 8.4   2.11  1.41]\n",
      " [13.7   3.53  2.  ]\n",
      " [15.    3.82  2.43]\n",
      " [16.2   4.59  2.63]\n",
      " [17.4   4.59  2.94]\n",
      " [18.    5.22  3.32]\n",
      " [18.7   5.2   3.12]\n",
      " [19.    5.64  3.05]\n",
      " [19.6   5.14  3.04]\n",
      " [20.    5.08  2.77]\n",
      " [21.    5.69  3.56]\n",
      " [21.    5.92  3.31]\n",
      " [21.    5.69  3.67]\n",
      " [21.3   6.38  3.53]\n",
      " [22.    6.11  3.41]\n",
      " [22.    5.64  3.52]\n",
      " [22.    6.11  3.52]\n",
      " [22.    5.88  3.52]\n",
      " [22.    5.52  4.  ]\n",
      " [22.5   5.86  3.62]\n",
      " [22.5   6.79  3.62]\n",
      " [22.7   5.95  3.63]\n",
      " [23.    5.22  3.63]\n",
      " [23.5   6.28  3.72]\n",
      " [24.    7.29  3.72]\n",
      " [24.    6.38  3.82]\n",
      " [24.6   6.73  4.17]\n",
      " [25.    6.44  3.68]\n",
      " [25.6   6.56  4.24]\n",
      " [26.5   7.17  4.14]\n",
      " [27.3   8.32  5.14]\n",
      " [27.5   7.17  4.34]\n",
      " [27.5   7.05  4.34]\n",
      " [27.5   7.28  4.57]\n",
      " [28.    7.82  4.2 ]\n",
      " [28.7   7.59  4.64]\n",
      " [30.    7.62  4.77]\n",
      " [32.8  10.03  6.02]\n",
      " [34.5  10.26  6.39]\n",
      " [35.   11.49  7.8 ]\n",
      " [36.5  10.88  6.86]\n",
      " [36.   10.61  6.74]\n",
      " [37.   10.84  6.26]\n",
      " [37.   10.57  6.37]\n",
      " [39.   11.14  7.49]\n",
      " [39.   11.14  6.  ]\n",
      " [39.   12.43  7.35]\n",
      " [40.   11.93  7.11]\n",
      " [40.   11.73  7.22]\n",
      " [40.   12.38  7.46]\n",
      " [40.   11.14  6.63]\n",
      " [42.   12.8   6.87]\n",
      " [43.   11.93  7.28]\n",
      " [43.   12.51  7.42]\n",
      " [43.5  12.6   8.14]\n",
      " [44.   12.49  7.6 ]]\n"
     ]
    }
   ],
   "source": [
    "#길이, 높이, 너비\n",
    "df = pd.read_csv('https://bit.ly/perch_csv_data')\n",
    "perch_full = df.to_numpy()\n",
    "print(perch_full)"
   ]
  },
  {
   "cell_type": "code",
   "execution_count": 5,
   "id": "68237013",
   "metadata": {},
   "outputs": [],
   "source": [
    "import numpy as np"
   ]
  },
  {
   "cell_type": "code",
   "execution_count": 6,
   "id": "085a2b6f",
   "metadata": {},
   "outputs": [],
   "source": [
    "perch_weight = np.array(\n",
    "    [5.9, 32.0, 40.0, 51.5, 70.0, 100.0, 78.0, 80.0, 85.0, 85.0, \n",
    "     110.0, 115.0, 125.0, 130.0, 120.0, 120.0, 130.0, 135.0, 110.0, \n",
    "     130.0, 150.0, 145.0, 150.0, 170.0, 225.0, 145.0, 188.0, 180.0, \n",
    "     197.0, 218.0, 300.0, 260.0, 265.0, 250.0, 250.0, 300.0, 320.0, \n",
    "     514.0, 556.0, 840.0, 685.0, 700.0, 700.0, 690.0, 900.0, 650.0, \n",
    "     820.0, 850.0, 900.0, 1015.0, 820.0, 1100.0, 1000.0, 1100.0, \n",
    "     1000.0, 1000.0]\n",
    "     )"
   ]
  },
  {
   "cell_type": "code",
   "execution_count": 7,
   "id": "4c47294c",
   "metadata": {},
   "outputs": [
    {
     "name": "stdout",
     "output_type": "stream",
     "text": [
      "(56, 3)\n",
      "(56,)\n"
     ]
    }
   ],
   "source": [
    "print(perch_full.shape)\n",
    "print(perch_weight.shape)"
   ]
  },
  {
   "cell_type": "code",
   "execution_count": 8,
   "id": "1633f645",
   "metadata": {},
   "outputs": [],
   "source": [
    "from sklearn.model_selection import train_test_split\n",
    "train_input, test_input, train_target, test_target = train_test_split(perch_full,perch_weight,random_state=42)"
   ]
  },
  {
   "cell_type": "code",
   "execution_count": 9,
   "id": "310219e3",
   "metadata": {},
   "outputs": [
    {
     "name": "stdout",
     "output_type": "stream",
     "text": [
      "(42, 3)\n",
      "(14, 3)\n",
      "(42,)\n",
      "(14, 3)\n"
     ]
    }
   ],
   "source": [
    "print(train_input.shape)\n",
    "print(test_input.shape)\n",
    "print(train_target.shape)\n",
    "print(test_input.shape)"
   ]
  },
  {
   "cell_type": "code",
   "execution_count": 10,
   "id": "73d49572",
   "metadata": {},
   "outputs": [
    {
     "name": "stdout",
     "output_type": "stream",
     "text": [
      "[19.6   5.14  3.04]\n",
      "85.0\n"
     ]
    }
   ],
   "source": [
    "print(train_input[0])\n",
    "print(train_target[0])"
   ]
  },
  {
   "cell_type": "markdown",
   "id": "83673577",
   "metadata": {},
   "source": [
    "### 사이킷런의 변환기"
   ]
  },
  {
   "cell_type": "markdown",
   "id": "1bf21e3d",
   "metadata": {},
   "source": [
    "**변환기는 데이터셋을 만들거나 변환하거나 전처리하는 역할 수행**<br>\n",
    "**<span style=\"color:blue\">fit() : </span>** 새롭게 만들 특성 조합 찾음, 입력 데이터만 전달<br>\n",
    "**<span style=\"color:blue\">transform() : </span>** 데이터 변환<br><br>\n",
    "**<span style=\"color:blue\">PolynomialFeatures</span>** 클래스는 **입력 데이터 x를 [1,x,x^2,x^3,...]과 같이 여러 다항식으로 변환<br>**\n",
    "<U>차수를 결정하는</U> **degree**와 <U>상수항 생성 여부를 결정하는</U> **include_bias**를 매개변수로 갖음"
   ]
  },
  {
   "cell_type": "code",
   "execution_count": 11,
   "id": "2bd5d61f",
   "metadata": {},
   "outputs": [],
   "source": [
    "from sklearn.preprocessing import PolynomialFeatures"
   ]
  },
  {
   "cell_type": "code",
   "execution_count": 12,
   "id": "a5a16a2e",
   "metadata": {},
   "outputs": [
    {
     "name": "stdout",
     "output_type": "stream",
     "text": [
      "[[1. 2. 3. 4. 6. 9.]]\n"
     ]
    }
   ],
   "source": [
    "poly=PolynomialFeatures()\n",
    "poly.fit([[2,3]])\n",
    "print(poly.transform([[2,3]]))"
   ]
  },
  {
   "cell_type": "code",
   "execution_count": 13,
   "id": "6e5f757c",
   "metadata": {},
   "outputs": [
    {
     "name": "stdout",
     "output_type": "stream",
     "text": [
      "[[2. 3. 4. 6. 9.]]\n"
     ]
    }
   ],
   "source": [
    "#사이킷런 선형 모델은 자동으로 절편 추가하므로 상수항 필요 없어서 False로 설정\n",
    "#degree는 기본값이 2\n",
    "poly = PolynomialFeatures(include_bias=False) \n",
    "poly.fit([[2, 3]])\n",
    "print(poly.transform([[2, 3]]))"
   ]
  },
  {
   "cell_type": "code",
   "execution_count": 14,
   "id": "ecb2733c",
   "metadata": {},
   "outputs": [],
   "source": [
    "poly = PolynomialFeatures(include_bias=False)\n",
    "\n",
    "poly.fit(train_input)\n",
    "train_poly = poly.transform(train_input)"
   ]
  },
  {
   "cell_type": "code",
   "execution_count": 15,
   "id": "57021854",
   "metadata": {},
   "outputs": [
    {
     "name": "stdout",
     "output_type": "stream",
     "text": [
      "(42, 9)\n"
     ]
    }
   ],
   "source": [
    "print(train_poly.shape) #3개의 샘플(길이, 높이, 너비)이 9개로 변환됨"
   ]
  },
  {
   "cell_type": "code",
   "execution_count": 16,
   "id": "2cc3e673",
   "metadata": {},
   "outputs": [
    {
     "data": {
      "text/plain": [
       "array(['x0', 'x1', 'x2', 'x0^2', 'x0 x1', 'x0 x2', 'x1^2', 'x1 x2',\n",
       "       'x2^2'], dtype=object)"
      ]
     },
     "execution_count": 16,
     "metadata": {},
     "output_type": "execute_result"
    }
   ],
   "source": [
    "poly.get_feature_names_out() #9개 특성의 입력 조합을 알려줌"
   ]
  },
  {
   "cell_type": "code",
   "execution_count": 17,
   "id": "cbf3baae",
   "metadata": {},
   "outputs": [],
   "source": [
    "test_poly=poly.transform(test_input)"
   ]
  },
  {
   "cell_type": "markdown",
   "id": "5fbeff4c",
   "metadata": {},
   "source": [
    "### 다중 회귀 모델 훈련하기"
   ]
  },
  {
   "cell_type": "code",
   "execution_count": 18,
   "id": "23a9e4ea",
   "metadata": {},
   "outputs": [
    {
     "name": "stdout",
     "output_type": "stream",
     "text": [
      "0.9903183436982125\n",
      "0.9714559911594155\n"
     ]
    }
   ],
   "source": [
    "#과소 적합 문제는 해결, 특성이 늘어나면 선형 회귀의 능력이 강해진다는 것을 알 수 있음\n",
    "from sklearn.linear_model import LinearRegression\n",
    "\n",
    "lr=LinearRegression()\n",
    "lr.fit(train_poly, train_target)\n",
    "print(lr.score(train_poly, train_target))\n",
    "print(lr.score(test_poly, test_target))"
   ]
  },
  {
   "cell_type": "code",
   "execution_count": 19,
   "id": "2662095f",
   "metadata": {},
   "outputs": [
    {
     "name": "stdout",
     "output_type": "stream",
     "text": [
      "(42, 55)\n"
     ]
    }
   ],
   "source": [
    "poly = PolynomialFeatures(degree=5,include_bias=False) # degree를 5로 높임\n",
    "poly.fit(train_input)\n",
    "train_poly = poly.transform(train_input)\n",
    "test_poly=poly.transform(test_input)\n",
    "print(train_poly.shape) #특성이 55개로 늘어남"
   ]
  },
  {
   "cell_type": "code",
   "execution_count": 20,
   "id": "6376f309",
   "metadata": {},
   "outputs": [
    {
     "name": "stdout",
     "output_type": "stream",
     "text": [
      "0.9999999999938143\n",
      "-144.40744532797535\n"
     ]
    }
   ],
   "source": [
    "lr.fit(train_poly, train_target)\n",
    "print(lr.score(train_poly, train_target))#거의 완벽한 점수\n",
    "print(lr.score(test_poly, test_target))#특성의 개수를 늘리면 너무 훈련 셋에 과대 적합되어 테스트 셋에서는 매우 낮은 점수 얻게 됨"
   ]
  },
  {
   "cell_type": "markdown",
   "id": "c04b97c7",
   "metadata": {},
   "source": [
    "### 규제"
   ]
  },
  {
   "cell_type": "markdown",
   "id": "75fe462f",
   "metadata": {},
   "source": [
    "머신러닝 모델이 훈련세트를 너무 **과도하게 학습하지 못하도록** 훼방하는 것<br>\n",
    "선형 회귀 모델의 경우 특성에 곱해지는 <U>계수(또는 기울기)를 작게 만드는 일</U>을 함<br><br>\n",
    "계수 값의 크기가 많이 다르면 공정하게 제어가 되지 않음 그래서 **<span style=\"color:blue\">StandardScaler</span>** 클래스를 이용하여 **정규화**를 실행함<br>\n",
    "StandardScaler 클래스는 평균 0, 분산 1이 되도록 정규화 시켜줌(동일한 기준이 적용되어야 하므로 테스트 세트까지 변환해야함)"
   ]
  },
  {
   "cell_type": "code",
   "execution_count": 21,
   "id": "2f63ce6e",
   "metadata": {},
   "outputs": [],
   "source": [
    "from sklearn.preprocessing import StandardScaler\n",
    "\n",
    "ss=StandardScaler()\n",
    "ss.fit(train_poly)\n",
    "\n",
    "train_scaled=ss.transform(train_poly)\n",
    "test_scaled=ss.transform(test_poly)"
   ]
  },
  {
   "cell_type": "markdown",
   "id": "6664ef72",
   "metadata": {},
   "source": [
    "### 릿지"
   ]
  },
  {
   "cell_type": "markdown",
   "id": "74c5c38f",
   "metadata": {},
   "source": [
    "계수를 제곱한 값을 기준으로 규제를 적용<br>"
   ]
  },
  {
   "cell_type": "code",
   "execution_count": 22,
   "id": "3090fe5c",
   "metadata": {},
   "outputs": [
    {
     "name": "stdout",
     "output_type": "stream",
     "text": [
      "훈련점수 =  0.9896101671037343\n",
      "테스트점수 =  0.979069397761538\n"
     ]
    }
   ],
   "source": [
    "#훈련 셋 점수는 낮아졌지만 테스트 점수를 통해 너무 과대적합되지 않았다는 것을 알 수 있음\n",
    "from sklearn.linear_model import Ridge\n",
    "\n",
    "ridge=Ridge()\n",
    "ridge.fit(train_scaled,train_target)\n",
    "print('훈련점수 = ',ridge.score(train_scaled,train_target))\n",
    "print('테스트점수 = ',ridge.score(test_scaled,test_target))"
   ]
  },
  {
   "cell_type": "code",
   "execution_count": 23,
   "id": "9b1ffe2f",
   "metadata": {},
   "outputs": [],
   "source": [
    "import matplotlib.pyplot as plt\n",
    "\n",
    "train_score=[]\n",
    "test_score=[]"
   ]
  },
  {
   "cell_type": "markdown",
   "id": "de8bc826",
   "metadata": {},
   "source": [
    "#### 하이퍼 파라미터<br>\n",
    "* 머신러닝 모델이 학습할 수 없고 사람이 알려줘야 하는 파라미터<br>\n",
    "* 여기서 alpha가 해당됨"
   ]
  },
  {
   "cell_type": "code",
   "execution_count": 24,
   "id": "57107b99",
   "metadata": {},
   "outputs": [],
   "source": [
    "alpha_list=[0.001,0.01,0.1,1,10,100] #규제 강도 조절, alpha 값이 클수록 규제 강도가 세서 조금 더 과소적합되도록 유도\n",
    "for alpha in alpha_list:\n",
    "    ridge=Ridge(alpha=alpha)\n",
    "    ridge.fit(train_scaled,train_target)\n",
    "    train_score.append(ridge.score(train_scaled,train_target))\n",
    "    test_score.append(ridge.score(test_scaled, test_target))"
   ]
  },
  {
   "cell_type": "code",
   "execution_count": 25,
   "id": "0511c723",
   "metadata": {},
   "outputs": [
    {
     "data": {
      "image/png": "[encoded data removed]",
      "text/plain": [
       "<Figure size 432x288 with 1 Axes>"
      ]
     },
     "metadata": {
      "needs_background": "light"
     },
     "output_type": "display_data"
    }
   ],
   "source": [
    "plt.plot(np.log10(alpha_list),train_score)#alpha 값을 10배씩 늘렸기 때문에 동일한 간격으로 나타내기 위해 log함수 사용\n",
    "plt.plot(np.log10(alpha_list),test_score)\n",
    "plt.legend(['train_score','test_score'])\n",
    "plt.xlabel('alpha')\n",
    "plt.ylabel('R^2')\n",
    "plt.show()"
   ]
  },
  {
   "cell_type": "code",
   "execution_count": 26,
   "id": "1aa7b185",
   "metadata": {},
   "outputs": [
    {
     "name": "stdout",
     "output_type": "stream",
     "text": [
      "0.9903815817570368\n",
      "0.9827976465386863\n"
     ]
    }
   ],
   "source": [
    "ridge=Ridge(alpha=0.1)#위 그래프에서 두 그래프가 가장 가깝고 테스트 세트의 점수가 가장 높은 alpha 값이 0.1임\n",
    "ridge.fit(train_scaled,train_target)\n",
    "\n",
    "#훈련 세트 테스트 세트 비슷하게 점수가 높고 과대적합과 과소적합 사이에 균형을 맞추고 있음\n",
    "print(ridge.score(train_scaled,train_target))\n",
    "print(ridge.score(test_scaled,test_target))"
   ]
  },
  {
   "cell_type": "markdown",
   "id": "bd10d684",
   "metadata": {},
   "source": [
    "### 라쏘"
   ]
  },
  {
   "cell_type": "markdown",
   "id": "e659f0b6",
   "metadata": {},
   "source": [
    "계수의 절댓값을 기준으로 규제 적용"
   ]
  },
  {
   "cell_type": "code",
   "execution_count": 27,
   "id": "9fc063bd",
   "metadata": {},
   "outputs": [
    {
     "name": "stdout",
     "output_type": "stream",
     "text": [
      "0.989789897208096\n"
     ]
    }
   ],
   "source": [
    "from sklearn.linear_model import Lasso\n",
    "\n",
    "lasso=Lasso()\n",
    "lasso.fit(train_scaled, train_target)\n",
    "print(lasso.score(train_scaled, train_target))"
   ]
  },
  {
   "cell_type": "code",
   "execution_count": 28,
   "id": "9aa5a7b7",
   "metadata": {},
   "outputs": [
    {
     "name": "stdout",
     "output_type": "stream",
     "text": [
      "0.9800593698421884\n"
     ]
    }
   ],
   "source": [
    "print(lasso.score(test_scaled, test_target))"
   ]
  },
  {
   "cell_type": "code",
   "execution_count": 30,
   "id": "cb135bd9",
   "metadata": {},
   "outputs": [
    {
     "name": "stdout",
     "output_type": "stream",
     "text": [
      "[ 89.7043722  133.00659968  84.48968511]\n",
      "[ 85. 135.  78.]\n",
      "[-17.58278429  83.26753163 257.45894521]\n",
      "[  5.9 100.  250. ]\n"
     ]
    }
   ],
   "source": [
    "prevalue=lasso.predict(train_scaled[:3])\n",
    "print(prevalue)\n",
    "print(train_target[:3])\n",
    "\n",
    "prevalue=lasso.predict(test_scaled[:3])\n",
    "print(prevalue)\n",
    "print(test_target[:3])"
   ]
  },
  {
   "cell_type": "code",
   "execution_count": 31,
   "id": "10ba889e",
   "metadata": {},
   "outputs": [
    {
     "name": "stderr",
     "output_type": "stream",
     "text": [
      "C:\\Users\\20\\anaconda3\\lib\\site-packages\\sklearn\\linear_model\\_coordinate_descent.py:647: ConvergenceWarning: Objective did not converge. You might want to increase the number of iterations, check the scale of the features or consider increasing regularisation. Duality gap: 1.878e+04, tolerance: 5.183e+02\n",
      "  model = cd_fast.enet_coordinate_descent(\n",
      "C:\\Users\\20\\anaconda3\\lib\\site-packages\\sklearn\\linear_model\\_coordinate_descent.py:647: ConvergenceWarning: Objective did not converge. You might want to increase the number of iterations, check the scale of the features or consider increasing regularisation. Duality gap: 1.297e+04, tolerance: 5.183e+02\n",
      "  model = cd_fast.enet_coordinate_descent(\n"
     ]
    }
   ],
   "source": [
    "train_score = []\n",
    "test_score = []\n",
    "\n",
    "alpha_list = [0.001, 0.01, 0.1, 1, 10, 100]\n",
    "for alpha in alpha_list:\n",
    "    # 라쏘 모델\n",
    "    lasso = Lasso(alpha=alpha, max_iter=10000)\n",
    "    # 라쏘 모델\n",
    "    lasso.fit(train_scaled, train_target)\n",
    "    # 훈련 점수와 테스트 점수를 저장\n",
    "    train_score.append(lasso.score(train_scaled, train_target))\n",
    "    test_score.append(lasso.score(test_scaled, test_target))"
   ]
  },
  {
   "cell_type": "code",
   "execution_count": 32,
   "id": "cdfefa1e",
   "metadata": {},
   "outputs": [
    {
     "data": {
      "image/png": "[encoded data removed]",
      "text/plain": [
       "<Figure size 432x288 with 1 Axes>"
      ]
     },
     "metadata": {
      "needs_background": "light"
     },
     "output_type": "display_data"
    }
   ],
   "source": [
    "plt.plot(np.log10(alpha_list), train_score)\n",
    "plt.plot(np.log10(alpha_list), test_score)\n",
    "plt.xlabel('alpha')\n",
    "plt.ylabel('R^2')\n",
    "plt.show()"
   ]
  },
  {
   "cell_type": "code",
   "execution_count": 33,
   "id": "02d9228d",
   "metadata": {},
   "outputs": [
    {
     "name": "stdout",
     "output_type": "stream",
     "text": [
      "0.9888067471131867\n",
      "0.9824470598706695\n"
     ]
    }
   ],
   "source": [
    "lasso = Lasso(alpha=10)\n",
    "lasso.fit(train_scaled, train_target)\n",
    "\n",
    "print(lasso.score(train_scaled, train_target))\n",
    "print(lasso.score(test_scaled, test_target))"
   ]
  },
  {
   "cell_type": "code",
   "execution_count": 34,
   "id": "31ea243f",
   "metadata": {},
   "outputs": [
    {
     "name": "stdout",
     "output_type": "stream",
     "text": [
      "40\n"
     ]
    }
   ],
   "source": [
    "print(np.sum(lasso.coef_ == 0)) #계수 0 = 해당 계수를 사용하지 않음, 유용한 특징을 어느정도로 골라냈는 지 척도로 사용"
   ]
  }
 ],
 "metadata": {
  "kernelspec": {
   "display_name": "Python 3 (ipykernel)",
   "language": "python",
   "name": "python3"
  },
  "language_info": {
   "codemirror_mode": {
    "name": "ipython",
    "version": 3
   },
   "file_extension": ".py",
   "mimetype": "text/x-python",
   "name": "python",
   "nbconvert_exporter": "python",
   "pygments_lexer": "ipython3",
   "version": "3.9.12"
  }
 },
 "nbformat": 4,
 "nbformat_minor": 5
}
