{
 "cells": [
  {
   "cell_type": "code",
   "execution_count": null,
   "id": "266e4cd3",
   "metadata": {},
   "outputs": [],
   "source": [
    "import numpy as np\n",
    "from sklearn.cluster import KMeans\n",
    "from sklearn.linear_model import LogisticRegression\n",
    "\n",
    "def getlog():\n",
    "    target=np.array(['사과']*100+['파인애플']*100+['바나나']*100)\n",
    "    fruits=np.load('fruits_300_data')\n",
    "    fruits_2d=fruits.reshape(-1,10000)\n",
    "    lr=LogisticRegression()\n",
    "    lr.fit(fruits_2d,target)\n",
    "    return lr"
   ]
  }
 ],
 "metadata": {
  "kernelspec": {
   "display_name": "Python 3 (ipykernel)",
   "language": "python",
   "name": "python3"
  },
  "language_info": {
   "codemirror_mode": {
    "name": "ipython",
    "version": 3
   },
   "file_extension": ".py",
   "mimetype": "text/x-python",
   "name": "python",
   "nbconvert_exporter": "python",
   "pygments_lexer": "ipython3",
   "version": "3.9.12"
  }
 },
 "nbformat": 4,
 "nbformat_minor": 5
}
