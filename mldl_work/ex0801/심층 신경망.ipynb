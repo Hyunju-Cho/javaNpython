{
 "cells": [
  {
   "cell_type": "markdown",
   "id": "3491bb9f",
   "metadata": {},
   "source": [
    "## 심층 신경망"
   ]
  },
  {
   "cell_type": "code",
   "execution_count": 15,
   "id": "b986608b",
   "metadata": {},
   "outputs": [],
   "source": [
    "# 실행마다 동일한 결과를 얻기 위해 케라스에 랜덤 시드를 사용하고 텐서플로 연산을 결정적으로 만듦. \n",
    "import tensorflow as tf\n",
    "\n",
    "tf.keras.utils.set_random_seed(42)\n",
    "tf.config.experimental.enable_op_determinism()"
   ]
  },
  {
   "cell_type": "markdown",
   "id": "ce988bef",
   "metadata": {},
   "source": [
    "### 2개의 층"
   ]
  },
  {
   "cell_type": "code",
   "execution_count": 16,
   "id": "342f7899",
   "metadata": {},
   "outputs": [],
   "source": [
    "from tensorflow import keras\n",
    "\n",
    "(train_input, train_target), (test_input, test_target) = keras.datasets.fashion_mnist.load_data()"
   ]
  },
  {
   "cell_type": "code",
   "execution_count": 17,
   "id": "184c7b27",
   "metadata": {},
   "outputs": [],
   "source": [
    "from sklearn.model_selection import train_test_split\n",
    "\n",
    "train_scaled = train_input / 255.0 #이미지 픽셀값 정규화\n",
    "train_scaled = train_scaled.reshape(-1, 28*28) #2차원 배열을 784크기의 1차원 배열로 변환\n",
    "\n",
    "train_scaled, val_scaled, train_target, val_target = train_test_split(\n",
    "    train_scaled, train_target, test_size=0.2, random_state=42)"
   ]
  },
  {
   "cell_type": "markdown",
   "id": "91ea944b",
   "metadata": {},
   "source": [
    "입력층과 출력층 사이에 은닉층을 추가하고 항상 활성화 함수가 있음<br>\n",
    "은닉층의 활성화 함수는 출력층보다 비교적 자유로운 편<br>\n",
    "대표적으로 시그모이드 함수와 렐루함수 등을 사용함"
   ]
  },
  {
   "cell_type": "code",
   "execution_count": 18,
   "id": "d6902e0d",
   "metadata": {},
   "outputs": [],
   "source": [
    "#은닉층, 뉴런의 개수는 특별한 기준은 없음, 출력층의 뉴런보다는 많아야 함\n",
    "dense1 = keras.layers.Dense(100, activation='sigmoid', input_shape=(784,))\n",
    "#출력층, 10개의 클래스를 분류하므로 10개의 뉴런을 둠\n",
    "dense2 = keras.layers.Dense(10, activation='softmax')"
   ]
  },
  {
   "cell_type": "markdown",
   "id": "1b14d508",
   "metadata": {},
   "source": [
    "### 심층 신경망 만들기"
   ]
  },
  {
   "cell_type": "code",
   "execution_count": 19,
   "id": "9d0e5ffe",
   "metadata": {},
   "outputs": [],
   "source": [
    "model = keras.Sequential([dense1, dense2]) #순서 주의 (방법1)"
   ]
  },
  {
   "cell_type": "code",
   "execution_count": 20,
   "id": "1240e7aa",
   "metadata": {},
   "outputs": [
    {
     "name": "stdout",
     "output_type": "stream",
     "text": [
      "Model: \"sequential_2\"\n",
      "_________________________________________________________________\n",
      " Layer (type)                Output Shape              Param #   \n",
      "=================================================================\n",
      " dense_4 (Dense)             (None, 100)               78500     \n",
      "                                                                 \n",
      " dense_5 (Dense)             (None, 10)                1010      \n",
      "                                                                 \n",
      "=================================================================\n",
      "Total params: 79,510\n",
      "Trainable params: 79,510\n",
      "Non-trainable params: 0\n",
      "_________________________________________________________________\n"
     ]
    }
   ],
   "source": [
    "#출력 순서는 은닉층->출력층\n",
    "#None: fit()메서드에서 미니배치 경사 하강법을 사용하는데 샘플 개수를 고정하지 않고 유연하게 대응하기 위해\n",
    "#784x100개+100개=78,500개\n",
    "#100x10개+10개=1,010개\n",
    "model.summary() "
   ]
  },
  {
   "cell_type": "markdown",
   "id": "7797cf9c",
   "metadata": {},
   "source": [
    "### 층을 추가하는 다른 방법"
   ]
  },
  {
   "cell_type": "code",
   "execution_count": 21,
   "id": "94bc2418",
   "metadata": {},
   "outputs": [],
   "source": [
    "#Sequential 클래스의 생성자 안에서 바로 Dense 클래스의 객체를 만듦 (방법2)\n",
    "model = keras.Sequential([\n",
    "    keras.layers.Dense(100, activation='sigmoid', input_shape=(784,), name='hidden'),\n",
    "    keras.layers.Dense(10, activation='softmax', name='output')\n",
    "], name='패션 MNIST 모델')"
   ]
  },
  {
   "cell_type": "code",
   "execution_count": 22,
   "id": "fdfc6a6f",
   "metadata": {},
   "outputs": [
    {
     "name": "stdout",
     "output_type": "stream",
     "text": [
      "Model: \"패션 MNIST 모델\"\n",
      "_________________________________________________________________\n",
      " Layer (type)                Output Shape              Param #   \n",
      "=================================================================\n",
      " hidden (Dense)              (None, 100)               78500     \n",
      "                                                                 \n",
      " output (Dense)              (None, 10)                1010      \n",
      "                                                                 \n",
      "=================================================================\n",
      "Total params: 79,510\n",
      "Trainable params: 79,510\n",
      "Non-trainable params: 0\n",
      "_________________________________________________________________\n"
     ]
    }
   ],
   "source": [
    "model.summary()"
   ]
  },
  {
   "cell_type": "code",
   "execution_count": 23,
   "id": "8c5c31e2",
   "metadata": {},
   "outputs": [],
   "source": [
    "#add()메서드 호출 (방법3)\n",
    "model = keras.Sequential()\n",
    "model.add(keras.layers.Dense(100, activation='sigmoid', input_shape=(784,)))\n",
    "model.add(keras.layers.Dense(10, activation='softmax'))"
   ]
  },
  {
   "cell_type": "code",
   "execution_count": 24,
   "id": "744c6dd8",
   "metadata": {},
   "outputs": [
    {
     "name": "stdout",
     "output_type": "stream",
     "text": [
      "Model: \"sequential_3\"\n",
      "_________________________________________________________________\n",
      " Layer (type)                Output Shape              Param #   \n",
      "=================================================================\n",
      " dense_6 (Dense)             (None, 100)               78500     \n",
      "                                                                 \n",
      " dense_7 (Dense)             (None, 10)                1010      \n",
      "                                                                 \n",
      "=================================================================\n",
      "Total params: 79,510\n",
      "Trainable params: 79,510\n",
      "Non-trainable params: 0\n",
      "_________________________________________________________________\n"
     ]
    }
   ],
   "source": [
    "model.summary()"
   ]
  },
  {
   "cell_type": "code",
   "execution_count": 25,
   "id": "8cf3f223",
   "metadata": {},
   "outputs": [
    {
     "name": "stdout",
     "output_type": "stream",
     "text": [
      "Epoch 1/5\n",
      "1500/1500 [==============================] - 2s 981us/step - loss: 0.5628 - accuracy: 0.8073\n",
      "Epoch 2/5\n",
      "1500/1500 [==============================] - 1s 982us/step - loss: 0.4075 - accuracy: 0.8522\n",
      "Epoch 3/5\n",
      "1500/1500 [==============================] - 1s 983us/step - loss: 0.3741 - accuracy: 0.8652\n",
      "Epoch 4/5\n",
      "1500/1500 [==============================] - 1s 988us/step - loss: 0.3509 - accuracy: 0.8732\n",
      "Epoch 5/5\n",
      "1500/1500 [==============================] - 1s 983us/step - loss: 0.3335 - accuracy: 0.8784\n"
     ]
    },
    {
     "data": {
      "text/plain": [
       "<keras.callbacks.History at 0x13422921910>"
      ]
     },
     "execution_count": 25,
     "metadata": {},
     "output_type": "execute_result"
    }
   ],
   "source": [
    "model.compile(loss='sparse_categorical_crossentropy', metrics='accuracy')\n",
    "\n",
    "#추가된 층이 성능을 향상시켰다는 것을 알 수 있음\n",
    "model.fit(train_scaled, train_target, epochs=5)"
   ]
  },
  {
   "cell_type": "markdown",
   "id": "b92f1fcf",
   "metadata": {},
   "source": [
    "### 렐루 활성화 함수"
   ]
  },
  {
   "cell_type": "markdown",
   "id": "42adc620",
   "metadata": {},
   "source": [
    "시그모이드 함수의 단점은 오른쪽과 왼쪽 끝으로 갈수록 그래프가 누워있어 올바른 출력을 신속하게 만들기가 어려움<br>\n",
    "심층 신경망일수록 누적되어 학습을 더 어렵게 만듦 => 개선하여 **렐루(ReLU)함수**가 제안됨<br><br>\n",
    "입력이 양수라면 값이 나오고 음수라면 0 (= $ max(0,z) $)"
   ]
  },
  {
   "cell_type": "markdown",
   "id": "91b62a91",
   "metadata": {},
   "source": [
    "Flatten 클래스는 배치 차원을 제외하고 나머지 입력 차원을 모두 일렬로 펼치는 역할<br>\n",
    "인공 신경망 성능을 위해 기여하는 바는 없지만 입력층과 은닉층 사이에 추가하기 때문에 층이라 부름"
   ]
  },
  {
   "cell_type": "code",
   "execution_count": 26,
   "id": "98b1cf56",
   "metadata": {},
   "outputs": [],
   "source": [
    "model=keras.Sequential()\n",
    "model.add(keras.layers.Flatten(input_shape=(28,28))) #입력층 바로 뒤에 추가\n",
    "model.add(keras.layers.Dense(100,activation='relu'))\n",
    "model.add(keras.layers.Dense(10,activation='softmax'))"
   ]
  },
  {
   "cell_type": "code",
   "execution_count": 27,
   "id": "9554d954",
   "metadata": {},
   "outputs": [
    {
     "name": "stdout",
     "output_type": "stream",
     "text": [
      "Model: \"sequential_4\"\n",
      "_________________________________________________________________\n",
      " Layer (type)                Output Shape              Param #   \n",
      "=================================================================\n",
      " flatten (Flatten)           (None, 784)               0         \n",
      "                                                                 \n",
      " dense_8 (Dense)             (None, 100)               78500     \n",
      "                                                                 \n",
      " dense_9 (Dense)             (None, 10)                1010      \n",
      "                                                                 \n",
      "=================================================================\n",
      "Total params: 79,510\n",
      "Trainable params: 79,510\n",
      "Non-trainable params: 0\n",
      "_________________________________________________________________\n"
     ]
    }
   ],
   "source": [
    "model.summary()"
   ]
  },
  {
   "cell_type": "code",
   "execution_count": 29,
   "id": "29dcc494",
   "metadata": {},
   "outputs": [],
   "source": [
    "(train_input,train_target),(test_input,test_target)=keras.datasets.fashion_mnist.load_data()\n",
    "\n",
    "train_scaled=train_input/255.0\n",
    "train_scaled,val_scaled,train_target,val_target=train_test_split(train_scaled,train_target,test_size=0.2,random_state=42)"
   ]
  },
  {
   "cell_type": "code",
   "execution_count": 30,
   "id": "c89b22c4",
   "metadata": {},
   "outputs": [
    {
     "name": "stdout",
     "output_type": "stream",
     "text": [
      "Epoch 1/5\n",
      "1500/1500 [==============================] - 2s 976us/step - loss: 0.5336 - accuracy: 0.8090\n",
      "Epoch 2/5\n",
      "1500/1500 [==============================] - 1s 988us/step - loss: 0.3932 - accuracy: 0.8585\n",
      "Epoch 3/5\n",
      "1500/1500 [==============================] - 1s 991us/step - loss: 0.3566 - accuracy: 0.8718\n",
      "Epoch 4/5\n",
      "1500/1500 [==============================] - 2s 1000us/step - loss: 0.3340 - accuracy: 0.8807\n",
      "Epoch 5/5\n",
      "1500/1500 [==============================] - 1s 985us/step - loss: 0.3192 - accuracy: 0.8861\n"
     ]
    },
    {
     "data": {
      "text/plain": [
       "<keras.callbacks.History at 0x1341d7e3df0>"
      ]
     },
     "execution_count": 30,
     "metadata": {},
     "output_type": "execute_result"
    }
   ],
   "source": [
    "model.compile(loss='sparse_categorical_crossentropy',metrics='accuracy')\n",
    "model.fit(train_scaled,train_target,epochs=5)"
   ]
  },
  {
   "cell_type": "code",
   "execution_count": 31,
   "id": "7b480eb4",
   "metadata": {},
   "outputs": [
    {
     "name": "stdout",
     "output_type": "stream",
     "text": [
      "375/375 [==============================] - 0s 677us/step - loss: 0.3714 - accuracy: 0.8731\n"
     ]
    },
    {
     "data": {
      "text/plain": [
       "[0.3713562786579132, 0.8730833530426025]"
      ]
     },
     "execution_count": 31,
     "metadata": {},
     "output_type": "execute_result"
    }
   ],
   "source": [
    "model.evaluate(val_scaled,val_target)"
   ]
  },
  {
   "cell_type": "code",
   "execution_count": 38,
   "id": "1ba50be7",
   "metadata": {},
   "outputs": [
    {
     "name": "stdout",
     "output_type": "stream",
     "text": [
      "(28, 28)\n"
     ]
    }
   ],
   "source": [
    "import ex02\n",
    "\n",
    "sn1=1-ex02.sn1()\n",
    "#p1=1-ex02.p1()\n",
    "t1=1-ex02.t1()"
   ]
  },
  {
   "cell_type": "code",
   "execution_count": 39,
   "id": "c4b995d6",
   "metadata": {},
   "outputs": [
    {
     "name": "stdout",
     "output_type": "stream",
     "text": [
      "1/1 [==============================] - 0s 55ms/step\n",
      "[[0. 0. 0. 0. 0. 0. 0. 0. 1. 0.]]\n",
      "8\n",
      "1/1 [==============================] - 0s 13ms/step\n",
      "[[0. 0. 0. 0. 0. 0. 1. 0. 0. 0.]]\n",
      "6\n"
     ]
    }
   ],
   "source": [
    "import numpy as np\n",
    "\n",
    "pred=model.predict(sn1.reshape(-1,28,28))\n",
    "print(np.round(pred,decimals=0))\n",
    "print(np.argmax(pred))\n",
    "\n",
    "pred=model.predict(t1.reshape(-1,28,28))\n",
    "print(np.round(pred,decimals=0))\n",
    "print(np.argmax(pred))"
   ]
  },
  {
   "cell_type": "markdown",
   "id": "d1bce1b3",
   "metadata": {},
   "source": [
    "### 옵티마이저"
   ]
  },
  {
   "cell_type": "markdown",
   "id": "44869c6e",
   "metadata": {},
   "source": [
    "compile()메서드에서는 RMSprop을 사용, 케라스는 다양한 종류의 경사 하강법 알고리즘을 제공하며 이들을<br>\n",
    "**옵티마이저**라고 부름<br>"
   ]
  },
  {
   "cell_type": "code",
   "execution_count": 40,
   "id": "3a49efd3",
   "metadata": {},
   "outputs": [],
   "source": [
    "model.compile(optimizer='sgd',loss='sparse_categorical_crossentropy',metrics='accuracy')"
   ]
  },
  {
   "cell_type": "code",
   "execution_count": 41,
   "id": "4b7e2216",
   "metadata": {},
   "outputs": [],
   "source": [
    "#위와 동일\n",
    "sgd = keras.optimizers.SGD()\n",
    "model.compile(optimizer=sgd, loss='sparse_categorical_crossentropy', metrics='accuracy')"
   ]
  },
  {
   "cell_type": "code",
   "execution_count": 42,
   "id": "12ddf54b",
   "metadata": {},
   "outputs": [],
   "source": [
    "sgd=keras.optimizers.SGD(learning_rate=0.1)"
   ]
  },
  {
   "cell_type": "markdown",
   "id": "8a9dba1c",
   "metadata": {},
   "source": [
    "![옵티마이저](https://user-images.githubusercontent.com/45377884/91630397-18838100-ea0c-11ea-8f90-515ef74599f1.png)"
   ]
  },
  {
   "cell_type": "code",
   "execution_count": 52,
   "id": "d448c1dd",
   "metadata": {},
   "outputs": [],
   "source": [
    "sgd = keras.optimizers.SGD(momentum=0.9, nesterov=True)"
   ]
  },
  {
   "cell_type": "code",
   "execution_count": 53,
   "id": "b94540ba",
   "metadata": {},
   "outputs": [],
   "source": [
    "adagrad = keras.optimizers.Adagrad()\n",
    "model.compile(optimizer=adagrad, loss='sparse_categorical_crossentropy', metrics='accuracy')"
   ]
  },
  {
   "cell_type": "code",
   "execution_count": 54,
   "id": "11299b82",
   "metadata": {},
   "outputs": [],
   "source": [
    "rmsprop = keras.optimizers.RMSprop()\n",
    "model.compile(optimizer=rmsprop, loss='sparse_categorical_crossentropy', metrics='accuracy')"
   ]
  },
  {
   "cell_type": "code",
   "execution_count": 55,
   "id": "0344e2ec",
   "metadata": {},
   "outputs": [],
   "source": [
    "model = keras.Sequential()\n",
    "model.add(keras.layers.Flatten(input_shape=(28, 28)))\n",
    "model.add(keras.layers.Dense(100, activation='relu'))\n",
    "model.add(keras.layers.Dense(10, activation='softmax'))"
   ]
  },
  {
   "cell_type": "code",
   "execution_count": 56,
   "id": "d6de5482",
   "metadata": {},
   "outputs": [
    {
     "name": "stdout",
     "output_type": "stream",
     "text": [
      "Epoch 1/5\n",
      "1500/1500 [==============================] - 2s 840us/step - loss: 0.5240 - accuracy: 0.8167\n",
      "Epoch 2/5\n",
      "1500/1500 [==============================] - 1s 849us/step - loss: 0.3917 - accuracy: 0.8601\n",
      "Epoch 3/5\n",
      "1500/1500 [==============================] - 1s 849us/step - loss: 0.3535 - accuracy: 0.8723\n",
      "Epoch 4/5\n",
      "1500/1500 [==============================] - 1s 850us/step - loss: 0.3287 - accuracy: 0.8802\n",
      "Epoch 5/5\n",
      "1500/1500 [==============================] - 1s 846us/step - loss: 0.3069 - accuracy: 0.8868\n"
     ]
    },
    {
     "data": {
      "text/plain": [
       "<keras.callbacks.History at 0x1341f87f5b0>"
      ]
     },
     "execution_count": 56,
     "metadata": {},
     "output_type": "execute_result"
    }
   ],
   "source": [
    "model.compile(optimizer='adam', loss='sparse_categorical_crossentropy', metrics='accuracy')\n",
    "\n",
    "model.fit(train_scaled, train_target, epochs=5)"
   ]
  },
  {
   "cell_type": "code",
   "execution_count": 57,
   "id": "934c3555",
   "metadata": {},
   "outputs": [
    {
     "name": "stdout",
     "output_type": "stream",
     "text": [
      "375/375 [==============================] - 0s 701us/step - loss: 0.3555 - accuracy: 0.8720\n"
     ]
    },
    {
     "data": {
      "text/plain": [
       "[0.3555358350276947, 0.871999979019165]"
      ]
     },
     "execution_count": 57,
     "metadata": {},
     "output_type": "execute_result"
    }
   ],
   "source": [
    "model.evaluate(val_scaled, val_target)"
   ]
  },
  {
   "cell_type": "code",
   "execution_count": 58,
   "id": "043d7213",
   "metadata": {},
   "outputs": [
    {
     "name": "stdout",
     "output_type": "stream",
     "text": [
      "1/1 [==============================] - 0s 31ms/step\n",
      "[[0. 0. 0. 0. 0. 0. 0. 0. 1. 0.]]\n",
      "8\n",
      "1/1 [==============================] - 0s 13ms/step\n",
      "[[0. 0. 0. 0. 0. 0. 0. 0. 1. 0.]]\n",
      "8\n"
     ]
    }
   ],
   "source": [
    "pred=model.predict(sn1.reshape(-1,28,28))\n",
    "print(np.round(pred,decimals=0))\n",
    "print(np.argmax(pred))\n",
    "\n",
    "pred=model.predict(t1.reshape(-1,28,28))\n",
    "print(np.round(pred,decimals=0))\n",
    "print(np.argmax(pred))"
   ]
  }
 ],
 "metadata": {
  "kernelspec": {
   "display_name": "Python 3 (ipykernel)",
   "language": "python",
   "name": "python3"
  },
  "language_info": {
   "codemirror_mode": {
    "name": "ipython",
    "version": 3
   },
   "file_extension": ".py",
   "mimetype": "text/x-python",
   "name": "python",
   "nbconvert_exporter": "python",
   "pygments_lexer": "ipython3",
   "version": "3.9.12"
  }
 },
 "nbformat": 4,
 "nbformat_minor": 5
}
