{
 "cells": [
  {
   "cell_type": "code",
   "execution_count": 7,
   "id": "1beb95c1",
   "metadata": {},
   "outputs": [],
   "source": [
    "from sklearn.neighbors import KNeighborsRegressor\n",
    "import numpy as np"
   ]
  },
  {
   "cell_type": "code",
   "execution_count": 18,
   "id": "f27b949f",
   "metadata": {},
   "outputs": [
    {
     "name": "stdout",
     "output_type": "stream",
     "text": [
      "[[ 5  8]\n",
      " [ 9 10]\n",
      " [11 12]\n",
      " [13 14]]\n"
     ]
    }
   ],
   "source": [
    "x1=np.array([5,8,9,10,11,12,13,14])\n",
    "x1=x1.reshape(-1,2)#값을 2개씩 넣음\n",
    "print(x1)"
   ]
  },
  {
   "cell_type": "code",
   "execution_count": 19,
   "id": "d5f72592",
   "metadata": {},
   "outputs": [
    {
     "data": {
      "text/plain": [
       "KNeighborsRegressor(n_neighbors=3)"
      ]
     },
     "execution_count": 19,
     "metadata": {},
     "output_type": "execute_result"
    }
   ],
   "source": [
    "nr=KNeighborsRegressor(n_neighbors=3)\n",
    "nr.fit(x1,[30,32,35,40])"
   ]
  },
  {
   "cell_type": "code",
   "execution_count": 21,
   "id": "24cc3141",
   "metadata": {},
   "outputs": [
    {
     "name": "stdout",
     "output_type": "stream",
     "text": [
      "[35.66666667]\n"
     ]
    }
   ],
   "source": [
    "prevalue=nr.predict([[12,13]])\n",
    "print(prevalue)"
   ]
  },
  {
   "cell_type": "code",
   "execution_count": null,
   "id": "f23194ee",
   "metadata": {},
   "outputs": [],
   "source": []
  }
 ],
 "metadata": {
  "kernelspec": {
   "display_name": "Python 3 (ipykernel)",
   "language": "python",
   "name": "python3"
  },
  "language_info": {
   "codemirror_mode": {
    "name": "ipython",
    "version": 3
   },
   "file_extension": ".py",
   "mimetype": "text/x-python",
   "name": "python",
   "nbconvert_exporter": "python",
   "pygments_lexer": "ipython3",
   "version": "3.9.12"
  }
 },
 "nbformat": 4,
 "nbformat_minor": 5
}
