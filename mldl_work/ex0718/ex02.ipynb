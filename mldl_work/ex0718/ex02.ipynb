{
 "cells": [
  {
   "cell_type": "markdown",
   "id": "b59f7750",
   "metadata": {},
   "source": [
    "## k-최근접 이웃의 한계"
   ]
  },
  {
   "cell_type": "code",
   "execution_count": 6,
   "id": "cc568169",
   "metadata": {},
   "outputs": [],
   "source": [
    "import pandas as pd\n",
    "import numpy as np\n",
    "import matplotlib.pyplot as plt\n",
    "from sklearn.neighbors import KNeighborsRegressor\n",
    "from sklearn.model_selection import train_test_split"
   ]
  },
  {
   "cell_type": "code",
   "execution_count": 7,
   "id": "c196c2c9",
   "metadata": {},
   "outputs": [],
   "source": [
    "data=pd.read_csv('chap3.csv')\n",
    "\n",
    "length=data['length'].to_numpy()\n",
    "weight=data['weight'].to_numpy()"
   ]
  },
  {
   "cell_type": "code",
   "execution_count": 9,
   "id": "653b7b82",
   "metadata": {},
   "outputs": [],
   "source": [
    "train_input,test_input,train_target,test_target=train_test_split(length,weight,random_state=42)"
   ]
  },
  {
   "cell_type": "code",
   "execution_count": 11,
   "id": "29d07f6d",
   "metadata": {},
   "outputs": [],
   "source": [
    "train_input=train_input.reshape(-1,1)\n",
    "test_input=test_input.reshape(-1,1)"
   ]
  },
  {
   "cell_type": "code",
   "execution_count": 14,
   "id": "765f7c6f",
   "metadata": {},
   "outputs": [
    {
     "data": {
      "text/plain": [
       "KNeighborsRegressor(n_neighbors=3)"
      ]
     },
     "execution_count": 14,
     "metadata": {},
     "output_type": "execute_result"
    }
   ],
   "source": [
    "knr=KNeighborsRegressor(n_neighbors=3)\n",
    "knr.fit(train_input,train_target)"
   ]
  },
  {
   "cell_type": "code",
   "execution_count": 15,
   "id": "39dbacfc",
   "metadata": {},
   "outputs": [
    {
     "name": "stdout",
     "output_type": "stream",
     "text": [
      "[1033.33333333]\n",
      "[1033.33333333]\n"
     ]
    }
   ],
   "source": [
    "prevalue=knr.predict([[50]])\n",
    "print(prevalue)\n",
    "prevalue=knr.predict([[100]])\n",
    "print(prevalue)"
   ]
  },
  {
   "cell_type": "code",
   "execution_count": 16,
   "id": "8268d46b",
   "metadata": {},
   "outputs": [
    {
     "name": "stdout",
     "output_type": "stream",
     "text": [
      "[[34  8 14]]\n"
     ]
    }
   ],
   "source": [
    "dis,idx=knr.kneighbors([[50]])#50cm 농어의 이웃을 구함\n",
    "print(idx)"
   ]
  },
  {
   "cell_type": "code",
   "execution_count": 18,
   "id": "1fb347ea",
   "metadata": {},
   "outputs": [
    {
     "name": "stdout",
     "output_type": "stream",
     "text": [
      "(array([[[44.],\n",
      "        [43.],\n",
      "        [43.]]]), array([[1000., 1000., 1100.]]))\n"
     ]
    }
   ],
   "source": [
    "trainvalues=train_input[idx],train_target[idx]\n",
    "print(trainvalues)"
   ]
  },
  {
   "cell_type": "markdown",
   "id": "338995d5",
   "metadata": {},
   "source": [
    "길이가 100인 농어도 여전히 1033으로 예측이 됨<br>\n",
    "가장 가까운 이웃의 길이가 45근방이기 때문에 이 샘플들의 무게 평균을 계산하게 된다.<br>\n",
    "그래서 100000이여도 여전히 1033이 나오게 된다.<br>\n",
    "**훈련 세트의 범위를 많이 벗어나는 경우 정확하게 예측하기 어렵다는 한계가 있다.**"
   ]
  },
  {
   "cell_type": "code",
   "execution_count": 25,
   "id": "b6ac3cae",
   "metadata": {},
   "outputs": [
    {
     "data": {
      "image/png": "[encoded data removed]",
      "text/plain": [
       "<Figure size 432x288 with 1 Axes>"
      ]
     },
     "metadata": {
      "needs_background": "light"
     },
     "output_type": "display_data"
    }
   ],
   "source": [
    "plt.scatter(train_input,train_target)\n",
    "plt.scatter(50,1033,marker=\"^\")\n",
    "plt.scatter(100,1033,marker=\"D\")\n",
    "plt.scatter(train_input[idx],train_target[idx],marker=\"*\")#훈련 세트 중 이웃 샘플만 별표로 다니 나타냄\n",
    "plt.xlabel('length')\n",
    "plt.ylabel('weight')\n",
    "plt.show()"
   ]
  },
  {
   "cell_type": "markdown",
   "id": "ac8bd476",
   "metadata": {},
   "source": [
    "## 선형 회귀"
   ]
  },
  {
   "cell_type": "markdown",
   "id": "8c8b11ff",
   "metadata": {},
   "source": [
    "**선형 회귀는 종속 변수 y와 하나 이상의 독립변수 x와의 선형 상관관계를 모델링 하는 기법**<br>\n",
    "x가 1개라면 단순 선형 회귀이고 2개 이상이면 다중 선형 회귀이다.<br><br>\n",
    "**<span style=\"color:blue\">1) 단순 선형 회귀</span><br>**\n",
    "**y=Wx+b**<br>\n",
    "W 값을 **가중치** b를 **편향(bias)** 이라고 부른다.<br>\n",
    "적절한 W와 b값을 찾는 것이고 그래프의 형태는 **직선**으로 나타낸다.<br><br>\n",
    "**<span style=\"color:blue\">2) 다중 선형 회귀</span><br>**\n",
    "**y=W1x1+W2x2+....+WnXn+b**의 식으로 나타낸다. 여러 독립 변수에 의해 영향을 받으며 2개의 독립변수면 그래프는 **평면**으로 나타날 것이다."
   ]
  },
  {
   "cell_type": "markdown",
   "id": "be426410",
   "metadata": {},
   "source": [
    "이전 실습에서 K-NN 회귀의 한계를 알게됨<br>\n",
    "농어의 길이만을 이용하여 무게를 예측하기 때문에 **단순 선형 회귀**로 한계를 극복할 수 있다.<br>\n",
    "직선이 훈련 셋의 평균에 가깝다면 **결정계수(R^2)**의 값은 0에 가까워지며 반대로 예측할 경우 음수가 될 수 있다.<br>\n",
    "**sklearn.linear_model**패키지 아래 **<span style=\"color:blue\">LinearRegression</span>**클래스를 사용<br>"
   ]
  },
  {
   "cell_type": "code",
   "execution_count": 26,
   "id": "88d98c34",
   "metadata": {},
   "outputs": [],
   "source": [
    "from sklearn.linear_model import LinearRegression"
   ]
  },
  {
   "cell_type": "code",
   "execution_count": 27,
   "id": "4f53e356",
   "metadata": {},
   "outputs": [
    {
     "data": {
      "text/plain": [
       "LinearRegression()"
      ]
     },
     "execution_count": 27,
     "metadata": {},
     "output_type": "execute_result"
    }
   ],
   "source": [
    "lr=LinearRegression()\n",
    "lr.fit(train_input,train_target)"
   ]
  },
  {
   "cell_type": "code",
   "execution_count": 31,
   "id": "92517173",
   "metadata": {},
   "outputs": [
    {
     "name": "stdout",
     "output_type": "stream",
     "text": [
      "[1241.83860323]\n",
      "[-123.7614705]\n"
     ]
    }
   ],
   "source": [
    "print(lr.predict([[50]]))#1241로 1033보다 높게 나옴\n",
    "print(lr.predict([[15]]))#음수로 나옴 실제로 있을 수는 없는 일"
   ]
  },
  {
   "cell_type": "code",
   "execution_count": 32,
   "id": "42fcc27d",
   "metadata": {},
   "outputs": [
    {
     "name": "stdout",
     "output_type": "stream",
     "text": [
      "[39.01714496] -709.0186449535477\n"
     ]
    }
   ],
   "source": [
    "print(lr.coef_,lr.intercept_) #y=ax+b에서 a와 b의 값 -> y=(39.01...)x-(709.01...)"
   ]
  },
  {
   "cell_type": "code",
   "execution_count": 34,
   "id": "9e592773",
   "metadata": {},
   "outputs": [
    {
     "data": {
      "image/png": "[encoded data removed]",
      "text/plain": [
       "<Figure size 432x288 with 1 Axes>"
      ]
     },
     "metadata": {
      "needs_background": "light"
     },
     "output_type": "display_data"
    }
   ],
   "source": [
    "plt.scatter(train_input,train_target)\n",
    "plt.plot([15,50],[lr.predict([[15]]),lr.predict([[50]])])#15에서 50까지 1차 방정식 그래프 그림(15*lr.coef_,lr.intercept_와 동일)\n",
    "plt.xlabel('length')\n",
    "plt.ylabel('weight')\n",
    "plt.show()"
   ]
  },
  {
   "cell_type": "markdown",
   "id": "71f5f53f",
   "metadata": {},
   "source": [
    "실제로 농어의 데이터는 직선보다 곡선에 더 가까움 최적의 곡선을 찾는다면 더 정확한 예측이 가능할 것이다.<br>\n",
    "2차 방정식을 구함<br>\n"
   ]
  },
  {
   "cell_type": "markdown",
   "id": "bfc08b86",
   "metadata": {},
   "source": [
    "## 다항 회귀\n",
    ">다중 회귀는 2개 이상의 독립 변수 존재, 다항 회귀는 하나의 독립 변수를 이용하여 차수를 높이는 개념"
   ]
  },
  {
   "cell_type": "code",
   "execution_count": 36,
   "id": "dca702a0",
   "metadata": {},
   "outputs": [],
   "source": [
    "#column_stack 함수는 열 방향으로 배열을 합쳐줌\n",
    "train_poly=np.column_stack((train_input**2,train_input)) # 2차 방정식을 구하기 위해서 길이를 제곱한 항을 추가\n",
    "test_poly=np.column_stack((test_input**2,test_input))"
   ]
  },
  {
   "cell_type": "code",
   "execution_count": 37,
   "id": "f8ec09c0",
   "metadata": {},
   "outputs": [
    {
     "name": "stdout",
     "output_type": "stream",
     "text": [
      "(42, 2) (14, 2)\n"
     ]
    }
   ],
   "source": [
    "print(train_poly.shape, test_poly.shape)"
   ]
  },
  {
   "cell_type": "code",
   "execution_count": 41,
   "id": "630143f3",
   "metadata": {},
   "outputs": [
    {
     "name": "stdout",
     "output_type": "stream",
     "text": [
      "[1573.98423528]\n"
     ]
    }
   ],
   "source": [
    "lr=LinearRegression()\n",
    "lr.fit(train_poly,train_target)\n",
    "\n",
    "print(lr.predict([[50**2,50]]))"
   ]
  },
  {
   "cell_type": "code",
   "execution_count": 42,
   "id": "c2726cfe",
   "metadata": {},
   "outputs": [
    {
     "name": "stdout",
     "output_type": "stream",
     "text": [
      "[  1.01433211 -21.55792498] 116.05021078278259\n"
     ]
    }
   ],
   "source": [
    "print(lr.coef_,lr.intercept_) #2차 방정식의 이차항 계수가 1.014, 일차항의 계수가 -21.5579...를 의미 -> y=1.014x^2-21.5579x+116.05"
   ]
  },
  {
   "cell_type": "code",
   "execution_count": 40,
   "id": "6569bf89",
   "metadata": {},
   "outputs": [
    {
     "name": "stdout",
     "output_type": "stream",
     "text": [
      "훈련점수 =  0.9706807451768623\n",
      "테스트점수 =  0.9775935108325121\n"
     ]
    }
   ],
   "source": [
    "#약간의 과소적합이 있지만 선형 회귀보다는 나아짐\n",
    "print(\"훈련점수 = \",lr.score(train_poly,train_target))\n",
    "print(\"테스트점수 = \",lr.score(test_poly,test_target))"
   ]
  },
  {
   "cell_type": "code",
   "execution_count": 52,
   "id": "88994e2c",
   "metadata": {},
   "outputs": [
    {
     "data": {
      "image/png": "[encoded data removed]",
      "text/plain": [
       "<Figure size 432x288 with 1 Axes>"
      ]
     },
     "metadata": {
      "needs_background": "light"
     },
     "output_type": "display_data"
    }
   ],
   "source": [
    "point = np.arange(15, 50) # 15에서 49까지 정수 배열\n",
    "plt.scatter(train_input, train_target)\n",
    "plt.plot(point, 1.01*point**2 - 21.6*point + 116.05) #15~49 2차 방정식 그래프\n",
    "plt.scatter([50], lr.predict([[50**2,50]]), marker='^')# 50cm 농어 데이터\n",
    "plt.xlabel('length')\n",
    "plt.ylabel('weight')\n",
    "plt.show()"
   ]
  }
 ],
 "metadata": {
  "kernelspec": {
   "display_name": "Python 3 (ipykernel)",
   "language": "python",
   "name": "python3"
  },
  "language_info": {
   "codemirror_mode": {
    "name": "ipython",
    "version": 3
   },
   "file_extension": ".py",
   "mimetype": "text/x-python",
   "name": "python",
   "nbconvert_exporter": "python",
   "pygments_lexer": "ipython3",
   "version": "3.9.12"
  }
 },
 "nbformat": 4,
 "nbformat_minor": 5
}
