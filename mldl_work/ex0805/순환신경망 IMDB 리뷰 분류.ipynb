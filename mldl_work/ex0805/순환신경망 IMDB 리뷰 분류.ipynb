{
 "cells": [
  {
   "cell_type": "markdown",
   "id": "e2476e7b",
   "metadata": {},
   "source": [
    "## 순환 신경망으로 IMDB 리뷰 분류하기"
   ]
  },
  {
   "cell_type": "code",
   "execution_count": 1,
   "id": "eb32dadb",
   "metadata": {},
   "outputs": [],
   "source": [
    "import tensorflow as tf\n",
    "\n",
    "tf.keras.utils.set_random_seed(42)\n",
    "tf.config.experimental.enable_op_determinism()"
   ]
  },
  {
   "cell_type": "markdown",
   "id": "a7412614",
   "metadata": {},
   "source": [
    "### IMDB 리뷰 데이터셋"
   ]
  },
  {
   "cell_type": "code",
   "execution_count": 2,
   "id": "64e801f1",
   "metadata": {},
   "outputs": [
    {
     "name": "stdout",
     "output_type": "stream",
     "text": [
      "Downloading data from https://storage.googleapis.com/tensorflow/tf-keras-datasets/imdb.npz\n",
      "17464789/17464789 [==============================] - 0s 0us/step\n"
     ]
    }
   ],
   "source": [
    "from tensorflow.keras.datasets import imdb\n",
    "\n",
    "(train_input, train_target), (test_input, test_target) = imdb.load_data(\n",
    "    num_words=500) #전체 데이터셋에서 가장 자주 등장하는 단어 500개만 사용"
   ]
  },
  {
   "cell_type": "code",
   "execution_count": 3,
   "id": "44a4827a",
   "metadata": {},
   "outputs": [
    {
     "name": "stdout",
     "output_type": "stream",
     "text": [
      "(25000,) (25000,)\n"
     ]
    }
   ],
   "source": [
    "print(train_input.shape, test_input.shape) #1차원 배열이 메모리 효율적 사용 가능"
   ]
  },
  {
   "cell_type": "code",
   "execution_count": 4,
   "id": "344fc629",
   "metadata": {},
   "outputs": [
    {
     "name": "stdout",
     "output_type": "stream",
     "text": [
      "218\n"
     ]
    }
   ],
   "source": [
    "print(len(train_input[0])) #첫번째 리뷰의 길이"
   ]
  },
  {
   "cell_type": "code",
   "execution_count": 5,
   "id": "dc881534",
   "metadata": {},
   "outputs": [
    {
     "name": "stdout",
     "output_type": "stream",
     "text": [
      "189\n"
     ]
    }
   ],
   "source": [
    "print(len(train_input[1]))#두번째 리뷰의 길이"
   ]
  },
  {
   "cell_type": "code",
   "execution_count": 6,
   "id": "d6e745fb",
   "metadata": {},
   "outputs": [
    {
     "name": "stdout",
     "output_type": "stream",
     "text": [
      "[1, 14, 22, 16, 43, 2, 2, 2, 2, 65, 458, 2, 66, 2, 4, 173, 36, 256, 5, 25, 100, 43, 2, 112, 50, 2, 2, 9, 35, 480, 284, 5, 150, 4, 172, 112, 167, 2, 336, 385, 39, 4, 172, 2, 2, 17, 2, 38, 13, 447, 4, 192, 50, 16, 6, 147, 2, 19, 14, 22, 4, 2, 2, 469, 4, 22, 71, 87, 12, 16, 43, 2, 38, 76, 15, 13, 2, 4, 22, 17, 2, 17, 12, 16, 2, 18, 2, 5, 62, 386, 12, 8, 316, 8, 106, 5, 4, 2, 2, 16, 480, 66, 2, 33, 4, 130, 12, 16, 38, 2, 5, 25, 124, 51, 36, 135, 48, 25, 2, 33, 6, 22, 12, 215, 28, 77, 52, 5, 14, 407, 16, 82, 2, 8, 4, 107, 117, 2, 15, 256, 4, 2, 7, 2, 5, 2, 36, 71, 43, 2, 476, 26, 400, 317, 46, 7, 4, 2, 2, 13, 104, 88, 4, 381, 15, 297, 98, 32, 2, 56, 26, 141, 6, 194, 2, 18, 4, 226, 22, 21, 134, 476, 26, 480, 5, 144, 30, 2, 18, 51, 36, 28, 224, 92, 25, 104, 4, 226, 65, 16, 38, 2, 88, 12, 16, 283, 5, 16, 2, 113, 103, 32, 15, 16, 2, 19, 178, 32]\n"
     ]
    }
   ],
   "source": [
    "print(train_input[0]) #첫번째 리뷰에 담긴 내용"
   ]
  },
  {
   "cell_type": "code",
   "execution_count": 7,
   "id": "029e527b",
   "metadata": {},
   "outputs": [
    {
     "name": "stdout",
     "output_type": "stream",
     "text": [
      "[1 0 0 1 0 0 1 0 1 0 1 0 0 0 0 0 1 1 0 1]\n"
     ]
    }
   ],
   "source": [
    "print(train_target[:20]) #0:부정, 1:긍정"
   ]
  },
  {
   "cell_type": "code",
   "execution_count": 8,
   "id": "beb90680",
   "metadata": {},
   "outputs": [],
   "source": [
    "from sklearn.model_selection import train_test_split\n",
    "\n",
    "train_input, val_input, train_target, val_target = train_test_split(\n",
    "    train_input, train_target, test_size=0.2, random_state=42) #20%를 검증 세트로 떼어 놓음"
   ]
  },
  {
   "cell_type": "code",
   "execution_count": 9,
   "id": "f69e9c7b",
   "metadata": {},
   "outputs": [],
   "source": [
    "import numpy as np\n",
    "\n",
    "lengths = np.array([len(x) for x in train_input]) #각 리뷰의 길이를 계산하여 넘파이 배열에 담음"
   ]
  },
  {
   "cell_type": "code",
   "execution_count": 10,
   "id": "fae07c0c",
   "metadata": {},
   "outputs": [
    {
     "name": "stdout",
     "output_type": "stream",
     "text": [
      "239.00925 178.0\n"
     ]
    }
   ],
   "source": [
    "print(np.mean(lengths), np.median(lengths))"
   ]
  },
  {
   "cell_type": "code",
   "execution_count": 11,
   "id": "b0e6d9b0",
   "metadata": {},
   "outputs": [
    {
     "data": {
      "image/png": "[encoded data removed]",
      "text/plain": [
       "<Figure size 432x288 with 1 Axes>"
      ]
     },
     "metadata": {
      "needs_background": "light"
     },
     "output_type": "display_data"
    }
   ],
   "source": [
    "import matplotlib.pyplot as plt\n",
    "\n",
    "plt.hist(lengths)\n",
    "plt.xlabel('length')\n",
    "plt.ylabel('frequency')\n",
    "plt.show()"
   ]
  },
  {
   "cell_type": "code",
   "execution_count": 12,
   "id": "74188dd3",
   "metadata": {},
   "outputs": [],
   "source": [
    "from tensorflow.keras.preprocessing.sequence import pad_sequences\n",
    "train_seq=pad_sequences(train_input,maxlen=100)"
   ]
  },
  {
   "cell_type": "code",
   "execution_count": 13,
   "id": "52ed06d7",
   "metadata": {},
   "outputs": [
    {
     "name": "stdout",
     "output_type": "stream",
     "text": [
      "(20000, 100)\n"
     ]
    }
   ],
   "source": [
    "print(train_seq.shape)"
   ]
  },
  {
   "cell_type": "code",
   "execution_count": 14,
   "id": "b87a76a5",
   "metadata": {},
   "outputs": [
    {
     "name": "stdout",
     "output_type": "stream",
     "text": [
      "[ 10   4  20   9   2 364 352   5  45   6   2   2  33 269   8   2 142   2\n",
      "   5   2  17  73  17 204   5   2  19  55   2   2  92  66 104  14  20  93\n",
      "  76   2 151  33   4  58  12 188   2 151  12 215  69 224 142  73 237   6\n",
      "   2   7   2   2 188   2 103  14  31  10  10 451   7   2   5   2  80  91\n",
      "   2  30   2  34  14  20 151  50  26 131  49   2  84  46  50  37  80  79\n",
      "   6   2  46   7  14  20  10  10 470 158]\n"
     ]
    }
   ],
   "source": [
    "print(train_seq[0])"
   ]
  },
  {
   "cell_type": "code",
   "execution_count": 15,
   "id": "581814d3",
   "metadata": {},
   "outputs": [
    {
     "name": "stdout",
     "output_type": "stream",
     "text": [
      "[6, 2, 46, 7, 14, 20, 10, 10, 470, 158]\n"
     ]
    }
   ],
   "source": [
    "print(train_input[0][-10:])"
   ]
  },
  {
   "cell_type": "code",
   "execution_count": 16,
   "id": "37294967",
   "metadata": {},
   "outputs": [
    {
     "name": "stdout",
     "output_type": "stream",
     "text": [
      "[  0   0   0   0   1   2 195  19  49   2   2 190   4   2 352   2 183  10\n",
      "  10  13  82  79   4   2  36  71 269   8   2  25  19  49   7   4   2   2\n",
      "   2   2   2  10  10  48  25  40   2  11   2   2  40   2   2   5   4   2\n",
      "   2  95  14 238  56 129   2  10  10  21   2  94 364 352   2   2  11 190\n",
      "  24 484   2   7  94 205 405  10  10  87   2  34  49   2   7   2   2   2\n",
      "   2   2 290   2  46  48  64  18   4   2]\n"
     ]
    }
   ],
   "source": [
    "print(train_seq[5])"
   ]
  },
  {
   "cell_type": "code",
   "execution_count": 17,
   "id": "1d47866a",
   "metadata": {},
   "outputs": [],
   "source": [
    "val_seq = pad_sequences(val_input, maxlen=100)"
   ]
  },
  {
   "cell_type": "markdown",
   "id": "c1461811",
   "metadata": {},
   "source": [
    "### 순환 신경망 만들기"
   ]
  },
  {
   "cell_type": "code",
   "execution_count": 18,
   "id": "16dddf43",
   "metadata": {},
   "outputs": [],
   "source": [
    "from tensorflow import keras\n",
    "\n",
    "model=keras.Sequential()\n",
    "\n",
    "model.add(keras.layers.SimpleRNN(8,input_shape=(100,500)))\n",
    "model.add(keras.layers.Dense(1,activation=\"sigmoid\"))"
   ]
  },
  {
   "cell_type": "code",
   "execution_count": 19,
   "id": "50852ed2",
   "metadata": {},
   "outputs": [],
   "source": [
    "train_oh=keras.utils.to_categorical(train_seq)"
   ]
  },
  {
   "cell_type": "code",
   "execution_count": 20,
   "id": "9a25b8d8",
   "metadata": {},
   "outputs": [
    {
     "name": "stdout",
     "output_type": "stream",
     "text": [
      "(20000, 100, 500)\n"
     ]
    }
   ],
   "source": [
    "print(train_oh.shape)"
   ]
  },
  {
   "cell_type": "code",
   "execution_count": 21,
   "id": "3a7c7917",
   "metadata": {},
   "outputs": [
    {
     "name": "stdout",
     "output_type": "stream",
     "text": [
      "[0. 0. 0. 0. 0. 0. 0. 0. 0. 0. 1. 0.]\n"
     ]
    }
   ],
   "source": [
    "print(train_oh[0][0][:12])"
   ]
  },
  {
   "cell_type": "code",
   "execution_count": 22,
   "id": "713dda6c",
   "metadata": {},
   "outputs": [
    {
     "name": "stdout",
     "output_type": "stream",
     "text": [
      "1.0\n"
     ]
    }
   ],
   "source": [
    "print(np.sum(train_oh[0][0]))"
   ]
  },
  {
   "cell_type": "code",
   "execution_count": 23,
   "id": "8dfdb2f0",
   "metadata": {},
   "outputs": [],
   "source": [
    "val_oh=keras.utils.to_categorical(val_seq)"
   ]
  },
  {
   "cell_type": "code",
   "execution_count": 24,
   "id": "58973f95",
   "metadata": {},
   "outputs": [
    {
     "name": "stdout",
     "output_type": "stream",
     "text": [
      "Model: \"sequential\"\n",
      "_________________________________________________________________\n",
      " Layer (type)                Output Shape              Param #   \n",
      "=================================================================\n",
      " simple_rnn (SimpleRNN)      (None, 8)                 4072      \n",
      "                                                                 \n",
      " dense (Dense)               (None, 1)                 9         \n",
      "                                                                 \n",
      "=================================================================\n",
      "Total params: 4,081\n",
      "Trainable params: 4,081\n",
      "Non-trainable params: 0\n",
      "_________________________________________________________________\n"
     ]
    }
   ],
   "source": [
    "model.summary()"
   ]
  },
  {
   "cell_type": "markdown",
   "id": "c8875c81",
   "metadata": {},
   "source": [
    "### 순환 신경망 훈련하기"
   ]
  },
  {
   "cell_type": "code",
   "execution_count": 26,
   "id": "45da11df",
   "metadata": {},
   "outputs": [
    {
     "name": "stdout",
     "output_type": "stream",
     "text": [
      "Epoch 1/100\n",
      "313/313 [==============================] - 6s 16ms/step - loss: 0.6989 - accuracy: 0.5041 - val_loss: 0.6978 - val_accuracy: 0.5038\n",
      "Epoch 2/100\n",
      "313/313 [==============================] - 4s 14ms/step - loss: 0.6946 - accuracy: 0.5102 - val_loss: 0.6949 - val_accuracy: 0.5102\n",
      "Epoch 3/100\n",
      "313/313 [==============================] - 4s 14ms/step - loss: 0.6920 - accuracy: 0.5200 - val_loss: 0.6930 - val_accuracy: 0.5146\n",
      "Epoch 4/100\n",
      "313/313 [==============================] - 4s 14ms/step - loss: 0.6901 - accuracy: 0.5302 - val_loss: 0.6916 - val_accuracy: 0.5230\n",
      "Epoch 5/100\n",
      "313/313 [==============================] - 4s 14ms/step - loss: 0.6883 - accuracy: 0.5408 - val_loss: 0.6905 - val_accuracy: 0.5270\n",
      "Epoch 6/100\n",
      "313/313 [==============================] - 4s 14ms/step - loss: 0.6866 - accuracy: 0.5472 - val_loss: 0.6894 - val_accuracy: 0.5356\n",
      "Epoch 7/100\n",
      "313/313 [==============================] - 5s 14ms/step - loss: 0.6845 - accuracy: 0.5563 - val_loss: 0.6880 - val_accuracy: 0.5416\n",
      "Epoch 8/100\n",
      "313/313 [==============================] - 4s 14ms/step - loss: 0.6819 - accuracy: 0.5659 - val_loss: 0.6856 - val_accuracy: 0.5482\n",
      "Epoch 9/100\n",
      "313/313 [==============================] - 5s 14ms/step - loss: 0.6777 - accuracy: 0.5828 - val_loss: 0.6807 - val_accuracy: 0.5726\n",
      "Epoch 10/100\n",
      "313/313 [==============================] - 4s 14ms/step - loss: 0.6614 - accuracy: 0.6260 - val_loss: 0.6585 - val_accuracy: 0.6240\n",
      "Epoch 11/100\n",
      "313/313 [==============================] - 4s 14ms/step - loss: 0.6407 - accuracy: 0.6653 - val_loss: 0.6424 - val_accuracy: 0.6582\n",
      "Epoch 12/100\n",
      "313/313 [==============================] - 4s 14ms/step - loss: 0.6268 - accuracy: 0.6856 - val_loss: 0.6290 - val_accuracy: 0.6776\n",
      "Epoch 13/100\n",
      "313/313 [==============================] - 5s 15ms/step - loss: 0.6141 - accuracy: 0.6992 - val_loss: 0.6196 - val_accuracy: 0.6840\n",
      "Epoch 14/100\n",
      "313/313 [==============================] - 5s 14ms/step - loss: 0.5997 - accuracy: 0.7121 - val_loss: 0.6069 - val_accuracy: 0.6946\n",
      "Epoch 15/100\n",
      "313/313 [==============================] - 5s 14ms/step - loss: 0.5876 - accuracy: 0.7222 - val_loss: 0.5981 - val_accuracy: 0.7030\n",
      "Epoch 16/100\n",
      "313/313 [==============================] - 4s 14ms/step - loss: 0.5753 - accuracy: 0.7352 - val_loss: 0.5887 - val_accuracy: 0.7096\n",
      "Epoch 17/100\n",
      "313/313 [==============================] - 4s 14ms/step - loss: 0.5657 - accuracy: 0.7348 - val_loss: 0.5765 - val_accuracy: 0.7184\n",
      "Epoch 18/100\n",
      "313/313 [==============================] - 4s 14ms/step - loss: 0.5551 - accuracy: 0.7419 - val_loss: 0.5680 - val_accuracy: 0.7224\n",
      "Epoch 19/100\n",
      "313/313 [==============================] - 5s 14ms/step - loss: 0.5450 - accuracy: 0.7491 - val_loss: 0.5586 - val_accuracy: 0.7302\n",
      "Epoch 20/100\n",
      "313/313 [==============================] - 5s 14ms/step - loss: 0.5352 - accuracy: 0.7552 - val_loss: 0.5466 - val_accuracy: 0.7448\n",
      "Epoch 21/100\n",
      "313/313 [==============================] - 4s 14ms/step - loss: 0.5255 - accuracy: 0.7627 - val_loss: 0.5369 - val_accuracy: 0.7536\n",
      "Epoch 22/100\n",
      "313/313 [==============================] - 5s 14ms/step - loss: 0.5184 - accuracy: 0.7627 - val_loss: 0.5291 - val_accuracy: 0.7526\n",
      "Epoch 23/100\n",
      "313/313 [==============================] - 5s 15ms/step - loss: 0.5113 - accuracy: 0.7666 - val_loss: 0.5275 - val_accuracy: 0.7506\n",
      "Epoch 24/100\n",
      "313/313 [==============================] - 5s 14ms/step - loss: 0.5029 - accuracy: 0.7728 - val_loss: 0.5276 - val_accuracy: 0.7478\n",
      "Epoch 25/100\n",
      "313/313 [==============================] - 5s 14ms/step - loss: 0.4965 - accuracy: 0.7757 - val_loss: 0.5160 - val_accuracy: 0.7578\n",
      "Epoch 26/100\n",
      "313/313 [==============================] - 5s 15ms/step - loss: 0.4913 - accuracy: 0.7758 - val_loss: 0.5159 - val_accuracy: 0.7554\n",
      "Epoch 27/100\n",
      "313/313 [==============================] - 5s 15ms/step - loss: 0.4853 - accuracy: 0.7818 - val_loss: 0.5069 - val_accuracy: 0.7604\n",
      "Epoch 28/100\n",
      "313/313 [==============================] - 4s 14ms/step - loss: 0.4797 - accuracy: 0.7840 - val_loss: 0.5074 - val_accuracy: 0.7622\n",
      "Epoch 29/100\n",
      "313/313 [==============================] - 5s 15ms/step - loss: 0.4765 - accuracy: 0.7849 - val_loss: 0.5013 - val_accuracy: 0.7602\n",
      "Epoch 30/100\n",
      "313/313 [==============================] - 5s 14ms/step - loss: 0.4711 - accuracy: 0.7893 - val_loss: 0.4986 - val_accuracy: 0.7648\n",
      "Epoch 31/100\n",
      "313/313 [==============================] - 5s 15ms/step - loss: 0.4672 - accuracy: 0.7908 - val_loss: 0.4973 - val_accuracy: 0.7668\n",
      "Epoch 32/100\n",
      "313/313 [==============================] - 5s 15ms/step - loss: 0.4629 - accuracy: 0.7928 - val_loss: 0.4942 - val_accuracy: 0.7678\n",
      "Epoch 33/100\n",
      "313/313 [==============================] - 5s 14ms/step - loss: 0.4593 - accuracy: 0.7965 - val_loss: 0.4909 - val_accuracy: 0.7688\n",
      "Epoch 34/100\n",
      "313/313 [==============================] - 4s 14ms/step - loss: 0.4580 - accuracy: 0.7957 - val_loss: 0.4944 - val_accuracy: 0.7634\n",
      "Epoch 35/100\n",
      "313/313 [==============================] - 5s 14ms/step - loss: 0.4540 - accuracy: 0.7990 - val_loss: 0.4904 - val_accuracy: 0.7694\n",
      "Epoch 36/100\n",
      "313/313 [==============================] - 5s 14ms/step - loss: 0.4513 - accuracy: 0.8011 - val_loss: 0.4865 - val_accuracy: 0.7726\n",
      "Epoch 37/100\n",
      "313/313 [==============================] - 5s 15ms/step - loss: 0.4488 - accuracy: 0.8019 - val_loss: 0.4852 - val_accuracy: 0.7734\n",
      "Epoch 38/100\n",
      "313/313 [==============================] - 5s 14ms/step - loss: 0.4461 - accuracy: 0.8033 - val_loss: 0.4860 - val_accuracy: 0.7680\n",
      "Epoch 39/100\n",
      "313/313 [==============================] - 5s 14ms/step - loss: 0.4441 - accuracy: 0.8059 - val_loss: 0.4813 - val_accuracy: 0.7740\n",
      "Epoch 40/100\n",
      "313/313 [==============================] - 4s 14ms/step - loss: 0.4415 - accuracy: 0.8070 - val_loss: 0.5010 - val_accuracy: 0.7672\n",
      "Epoch 41/100\n",
      "313/313 [==============================] - 5s 14ms/step - loss: 0.4402 - accuracy: 0.8069 - val_loss: 0.4797 - val_accuracy: 0.7778\n",
      "Epoch 42/100\n",
      "313/313 [==============================] - 5s 14ms/step - loss: 0.4386 - accuracy: 0.8083 - val_loss: 0.4811 - val_accuracy: 0.7800\n",
      "Epoch 43/100\n",
      "313/313 [==============================] - 5s 14ms/step - loss: 0.4368 - accuracy: 0.8091 - val_loss: 0.4787 - val_accuracy: 0.7806\n",
      "Epoch 44/100\n",
      "313/313 [==============================] - 5s 15ms/step - loss: 0.4351 - accuracy: 0.8094 - val_loss: 0.4749 - val_accuracy: 0.7788\n",
      "Epoch 45/100\n",
      "313/313 [==============================] - 5s 14ms/step - loss: 0.4332 - accuracy: 0.8116 - val_loss: 0.4773 - val_accuracy: 0.7822\n",
      "Epoch 46/100\n",
      "313/313 [==============================] - 5s 14ms/step - loss: 0.4305 - accuracy: 0.8117 - val_loss: 0.4731 - val_accuracy: 0.7794\n",
      "Epoch 47/100\n",
      "313/313 [==============================] - 4s 14ms/step - loss: 0.4298 - accuracy: 0.8124 - val_loss: 0.4763 - val_accuracy: 0.7726\n",
      "Epoch 48/100\n",
      "313/313 [==============================] - 5s 15ms/step - loss: 0.4277 - accuracy: 0.8135 - val_loss: 0.4713 - val_accuracy: 0.7810\n",
      "Epoch 49/100\n",
      "313/313 [==============================] - 5s 14ms/step - loss: 0.4265 - accuracy: 0.8145 - val_loss: 0.4695 - val_accuracy: 0.7800\n",
      "Epoch 50/100\n",
      "313/313 [==============================] - 5s 14ms/step - loss: 0.4249 - accuracy: 0.8158 - val_loss: 0.4674 - val_accuracy: 0.7804\n",
      "Epoch 51/100\n",
      "313/313 [==============================] - 5s 14ms/step - loss: 0.4232 - accuracy: 0.8164 - val_loss: 0.4687 - val_accuracy: 0.7830\n",
      "Epoch 52/100\n",
      "313/313 [==============================] - 5s 14ms/step - loss: 0.4218 - accuracy: 0.8184 - val_loss: 0.4678 - val_accuracy: 0.7826\n",
      "Epoch 53/100\n",
      "313/313 [==============================] - 5s 15ms/step - loss: 0.4204 - accuracy: 0.8178 - val_loss: 0.4769 - val_accuracy: 0.7790\n",
      "625/625 [==============================] - 5s 5ms/step - loss: 0.4197 - accuracy: 0.8198\n",
      "[0.4196684956550598, 0.8197500109672546]\n"
     ]
    }
   ],
   "source": [
    "rmsprop=keras.optimizers.RMSprop(learning_rate=1e-4)\n",
    "model.compile(optimizer=rmsprop,loss='binary_crossentropy',metrics=['accuracy'])\n",
    "\n",
    "checkpoint_cb=keras.callbacks.ModelCheckpoint('best-simplernn-model.h5',save_best_only=True)\n",
    "early_stopping_cb=keras.callbacks.EarlyStopping(patience=3,restore_best_weights=True)\n",
    "\n",
    "history=model.fit(train_oh,train_target,epochs=100,batch_size=64,validation_data=(val_oh,val_target),callbacks=[checkpoint_cb,early_stopping_cb])\n",
    "\n",
    "score=model.evaluate(train_oh,train_target)\n",
    "print(score)"
   ]
  },
  {
   "cell_type": "code",
   "execution_count": 27,
   "id": "62425580",
   "metadata": {},
   "outputs": [
    {
     "data": {
      "image/png": "[encoded data removed]",
      "text/plain": [
       "<Figure size 432x288 with 1 Axes>"
      ]
     },
     "metadata": {
      "needs_background": "light"
     },
     "output_type": "display_data"
    }
   ],
   "source": [
    "plt.plot(history.history['loss'])\n",
    "plt.plot(history.history['val_loss'])\n",
    "plt.xlabel('epoch')\n",
    "plt.ylabel('loss')\n",
    "plt.legend(['train', 'val'])\n",
    "plt.show()"
   ]
  },
  {
   "cell_type": "markdown",
   "id": "8322ef1c",
   "metadata": {},
   "source": [
    "### 단어 임베딩을 사용하기"
   ]
  },
  {
   "cell_type": "code",
   "execution_count": 28,
   "id": "a36a760b",
   "metadata": {},
   "outputs": [
    {
     "name": "stdout",
     "output_type": "stream",
     "text": [
      "Model: \"sequential_1\"\n",
      "_________________________________________________________________\n",
      " Layer (type)                Output Shape              Param #   \n",
      "=================================================================\n",
      " embedding (Embedding)       (None, 100, 16)           8000      \n",
      "                                                                 \n",
      " simple_rnn_1 (SimpleRNN)    (None, 8)                 200       \n",
      "                                                                 \n",
      " dense_1 (Dense)             (None, 1)                 9         \n",
      "                                                                 \n",
      "=================================================================\n",
      "Total params: 8,209\n",
      "Trainable params: 8,209\n",
      "Non-trainable params: 0\n",
      "_________________________________________________________________\n"
     ]
    }
   ],
   "source": [
    "model2=keras.Sequential()\n",
    "\n",
    "model2.add(keras.layers.Embedding(500,16,input_length=100))\n",
    "model2.add(keras.layers.SimpleRNN(8))\n",
    "model2.add(keras.layers.Dense(1,activation=\"sigmoid\"))\n",
    "\n",
    "model2.summary()"
   ]
  },
  {
   "cell_type": "code",
   "execution_count": 29,
   "id": "31892457",
   "metadata": {},
   "outputs": [
    {
     "name": "stdout",
     "output_type": "stream",
     "text": [
      "Epoch 1/100\n",
      "313/313 [==============================] - 4s 10ms/step - loss: 0.6949 - accuracy: 0.5066 - val_loss: 0.6933 - val_accuracy: 0.5052\n",
      "Epoch 2/100\n",
      "313/313 [==============================] - 3s 9ms/step - loss: 0.6914 - accuracy: 0.5254 - val_loss: 0.6914 - val_accuracy: 0.5242\n",
      "Epoch 3/100\n",
      "313/313 [==============================] - 3s 9ms/step - loss: 0.6888 - accuracy: 0.5439 - val_loss: 0.6877 - val_accuracy: 0.5494\n",
      "Epoch 4/100\n",
      "313/313 [==============================] - 3s 9ms/step - loss: 0.6793 - accuracy: 0.6054 - val_loss: 0.6740 - val_accuracy: 0.6296\n",
      "Epoch 5/100\n",
      "313/313 [==============================] - 3s 9ms/step - loss: 0.6614 - accuracy: 0.6687 - val_loss: 0.6551 - val_accuracy: 0.6852\n",
      "Epoch 6/100\n",
      "313/313 [==============================] - 3s 9ms/step - loss: 0.6404 - accuracy: 0.7062 - val_loss: 0.6351 - val_accuracy: 0.7042\n",
      "Epoch 7/100\n",
      "313/313 [==============================] - 3s 9ms/step - loss: 0.6203 - accuracy: 0.7254 - val_loss: 0.6174 - val_accuracy: 0.7166\n",
      "Epoch 8/100\n",
      "313/313 [==============================] - 3s 9ms/step - loss: 0.6018 - accuracy: 0.7403 - val_loss: 0.6004 - val_accuracy: 0.7342\n",
      "Epoch 9/100\n",
      "313/313 [==============================] - 3s 9ms/step - loss: 0.5853 - accuracy: 0.7520 - val_loss: 0.5926 - val_accuracy: 0.7328\n",
      "Epoch 10/100\n",
      "313/313 [==============================] - 3s 9ms/step - loss: 0.5697 - accuracy: 0.7624 - val_loss: 0.5746 - val_accuracy: 0.7484\n",
      "Epoch 11/100\n",
      "313/313 [==============================] - 3s 9ms/step - loss: 0.5547 - accuracy: 0.7724 - val_loss: 0.5621 - val_accuracy: 0.7596\n",
      "Epoch 12/100\n",
      "313/313 [==============================] - 3s 9ms/step - loss: 0.5409 - accuracy: 0.7787 - val_loss: 0.5499 - val_accuracy: 0.7594\n",
      "Epoch 13/100\n",
      "313/313 [==============================] - 3s 9ms/step - loss: 0.5290 - accuracy: 0.7828 - val_loss: 0.5403 - val_accuracy: 0.7676\n",
      "Epoch 14/100\n",
      "313/313 [==============================] - 3s 9ms/step - loss: 0.5170 - accuracy: 0.7893 - val_loss: 0.5306 - val_accuracy: 0.7692\n",
      "Epoch 15/100\n",
      "313/313 [==============================] - 3s 9ms/step - loss: 0.5058 - accuracy: 0.7926 - val_loss: 0.5230 - val_accuracy: 0.7728\n",
      "Epoch 16/100\n",
      "313/313 [==============================] - 3s 9ms/step - loss: 0.4953 - accuracy: 0.7974 - val_loss: 0.5140 - val_accuracy: 0.7756\n",
      "Epoch 17/100\n",
      "313/313 [==============================] - 3s 9ms/step - loss: 0.4854 - accuracy: 0.8004 - val_loss: 0.5197 - val_accuracy: 0.7628\n",
      "Epoch 18/100\n",
      "313/313 [==============================] - 3s 9ms/step - loss: 0.4782 - accuracy: 0.8019 - val_loss: 0.5060 - val_accuracy: 0.7738\n",
      "Epoch 19/100\n",
      "313/313 [==============================] - 3s 9ms/step - loss: 0.4692 - accuracy: 0.8048 - val_loss: 0.4965 - val_accuracy: 0.7758\n",
      "Epoch 20/100\n",
      "313/313 [==============================] - 3s 9ms/step - loss: 0.4623 - accuracy: 0.8080 - val_loss: 0.4911 - val_accuracy: 0.7814\n",
      "Epoch 21/100\n",
      "313/313 [==============================] - 3s 9ms/step - loss: 0.4562 - accuracy: 0.8088 - val_loss: 0.4867 - val_accuracy: 0.7798\n",
      "Epoch 22/100\n",
      "313/313 [==============================] - 3s 9ms/step - loss: 0.4503 - accuracy: 0.8101 - val_loss: 0.4914 - val_accuracy: 0.7734\n",
      "Epoch 23/100\n",
      "313/313 [==============================] - 3s 9ms/step - loss: 0.4442 - accuracy: 0.8124 - val_loss: 0.4832 - val_accuracy: 0.7794\n",
      "Epoch 24/100\n",
      "313/313 [==============================] - 3s 9ms/step - loss: 0.4398 - accuracy: 0.8140 - val_loss: 0.4791 - val_accuracy: 0.7798\n",
      "Epoch 25/100\n",
      "313/313 [==============================] - 3s 9ms/step - loss: 0.4362 - accuracy: 0.8158 - val_loss: 0.4763 - val_accuracy: 0.7810\n",
      "Epoch 26/100\n",
      "313/313 [==============================] - 3s 9ms/step - loss: 0.4314 - accuracy: 0.8176 - val_loss: 0.4775 - val_accuracy: 0.7766\n",
      "Epoch 27/100\n",
      "313/313 [==============================] - 3s 10ms/step - loss: 0.4285 - accuracy: 0.8198 - val_loss: 0.4757 - val_accuracy: 0.7804\n",
      "Epoch 28/100\n",
      "313/313 [==============================] - 3s 9ms/step - loss: 0.4246 - accuracy: 0.8188 - val_loss: 0.4698 - val_accuracy: 0.7836\n",
      "Epoch 29/100\n",
      "313/313 [==============================] - 3s 9ms/step - loss: 0.4218 - accuracy: 0.8203 - val_loss: 0.4789 - val_accuracy: 0.7790\n",
      "Epoch 30/100\n",
      "313/313 [==============================] - 3s 9ms/step - loss: 0.4186 - accuracy: 0.8221 - val_loss: 0.4705 - val_accuracy: 0.7824\n",
      "Epoch 31/100\n",
      "313/313 [==============================] - 3s 9ms/step - loss: 0.4157 - accuracy: 0.8244 - val_loss: 0.4742 - val_accuracy: 0.7778\n"
     ]
    }
   ],
   "source": [
    "rmsprop=keras.optimizers.RMSprop(learning_rate=1e-4)\n",
    "model2.compile(optimizer=rmsprop,loss='binary_crossentropy',metrics=['accuracy'])\n",
    "\n",
    "checkpoint_cb=keras.callbacks.ModelCheckpoint('best-embedding-model.h5',save_best_only=True)\n",
    "early_stopping_cb=keras.callbacks.EarlyStopping(patience=3,restore_best_weights=True)\n",
    "\n",
    "history=model2.fit(train_seq,train_target,epochs=100,batch_size=64,validation_data=(val_seq,val_target),callbacks=[checkpoint_cb,early_stopping_cb])"
   ]
  },
  {
   "cell_type": "code",
   "execution_count": 30,
   "id": "841eb3df",
   "metadata": {},
   "outputs": [
    {
     "data": {
      "image/png": "[encoded data removed]",
      "text/plain": [
       "<Figure size 432x288 with 1 Axes>"
      ]
     },
     "metadata": {
      "needs_background": "light"
     },
     "output_type": "display_data"
    }
   ],
   "source": [
    "plt.plot(history.history['loss'])\n",
    "plt.plot(history.history['val_loss'])\n",
    "plt.xlabel('epoch')\n",
    "plt.ylabel('loss')\n",
    "plt.legend(['train', 'val'])\n",
    "plt.show()"
   ]
  }
 ],
 "metadata": {
  "kernelspec": {
   "display_name": "Python 3 (ipykernel)",
   "language": "python",
   "name": "python3"
  },
  "language_info": {
   "codemirror_mode": {
    "name": "ipython",
    "version": 3
   },
   "file_extension": ".py",
   "mimetype": "text/x-python",
   "name": "python",
   "nbconvert_exporter": "python",
   "pygments_lexer": "ipython3",
   "version": "3.9.12"
  }
 },
 "nbformat": 4,
 "nbformat_minor": 5
}
