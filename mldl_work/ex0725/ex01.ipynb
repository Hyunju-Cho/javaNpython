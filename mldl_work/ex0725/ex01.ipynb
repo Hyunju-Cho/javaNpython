{
 "cells": [
  {
   "cell_type": "markdown",
   "id": "8241afd6",
   "metadata": {},
   "source": [
    "## 교차 검증과 그리드 서치"
   ]
  },
  {
   "cell_type": "markdown",
   "id": "40b52e6a",
   "metadata": {},
   "source": [
    "이전까지는 테스트 세트를 사용하여 모델을 평가했지만 자주 확인한다면 점점 테스트 세트에 맞추게 됨<br>\n",
    "마지막에 딱 한 번만 사용하는 것이 좋음<br>"
   ]
  },
  {
   "cell_type": "markdown",
   "id": "9fdd8daa",
   "metadata": {},
   "source": [
    "### 검증 세트\n",
    "<U>훈련세트에서 또 나눔!</U><br>\n",
    "이 데이터를 **검증 세트**라고 함<br>\n",
    "그래서 이번에는 훈련세트 60%, 검증세트 20%, 테스트세트 20%로 나눔"
   ]
  },
  {
   "cell_type": "code",
   "execution_count": 1,
   "id": "856c257f",
   "metadata": {},
   "outputs": [
    {
     "name": "stdout",
     "output_type": "stream",
     "text": [
      "   Unnamed: 0  alcohol  sugar    pH  class\n",
      "0           0      9.4    1.9  3.51    0.0\n",
      "1           1      9.8    2.6  3.20    0.0\n",
      "2           2      9.8    2.3  3.26    0.0\n",
      "3           3      9.8    1.9  3.16    0.0\n",
      "4           4      9.4    1.9  3.51    0.0\n"
     ]
    }
   ],
   "source": [
    "import pandas as pd\n",
    "\n",
    "data=pd.read_csv('wine.csv')\n",
    "print(data.head())"
   ]
  },
  {
   "cell_type": "code",
   "execution_count": 5,
   "id": "a6231786",
   "metadata": {},
   "outputs": [],
   "source": [
    "x=data[['alcohol','sugar','pH']].to_numpy()\n",
    "y=data['class'].to_numpy()"
   ]
  },
  {
   "cell_type": "code",
   "execution_count": 8,
   "id": "be01b73c",
   "metadata": {},
   "outputs": [],
   "source": [
    "from sklearn.model_selection import train_test_split\n",
    "#train_test_split() 함수를 2번 적용하여 훈련세트와 검증세트를 나눔\n",
    "\n",
    "train_input, test_input, train_target, test_target = train_test_split(x,y,test_size=0.2,random_state=42)"
   ]
  },
  {
   "cell_type": "code",
   "execution_count": 9,
   "id": "94cd4dad",
   "metadata": {},
   "outputs": [],
   "source": [
    "sub_input, val_input, sub_target, val_target = train_test_split(train_input,train_target,test_size=0.2,random_state=42)"
   ]
  },
  {
   "cell_type": "code",
   "execution_count": 10,
   "id": "20001035",
   "metadata": {},
   "outputs": [
    {
     "name": "stdout",
     "output_type": "stream",
     "text": [
      "(5197, 3)\n",
      "(4157, 3)\n",
      "(1040, 3)\n"
     ]
    }
   ],
   "source": [
    "print(train_input.shape)\n",
    "print(sub_input.shape) #훈련세트\n",
    "print(val_input.shape) #검증세트"
   ]
  },
  {
   "cell_type": "code",
   "execution_count": 15,
   "id": "ab6d3f2a",
   "metadata": {},
   "outputs": [
    {
     "name": "stdout",
     "output_type": "stream",
     "text": [
      "[ True  True  True ... False False False]\n"
     ]
    }
   ],
   "source": [
    "index0=(val_target==0)\n",
    "print(index0)"
   ]
  },
  {
   "cell_type": "code",
   "execution_count": 16,
   "id": "2ac7b698",
   "metadata": {},
   "outputs": [
    {
     "name": "stdout",
     "output_type": "stream",
     "text": [
      "[False False False ...  True  True  True]\n"
     ]
    }
   ],
   "source": [
    "index1=(val_target==1)\n",
    "print(index1)"
   ]
  },
  {
   "cell_type": "code",
   "execution_count": 17,
   "id": "8e80ced3",
   "metadata": {},
   "outputs": [
    {
     "data": {
      "image/png": "[encoded data removed]",
      "text/plain": [
       "<Figure size 432x288 with 1 Axes>"
      ]
     },
     "metadata": {
      "needs_background": "light"
     },
     "output_type": "display_data"
    }
   ],
   "source": [
    "plt.scatter(val_input[index0,1],val_input[index0,0],c=\"#ff0000\")\n",
    "plt.scatter(val_input[index1,1],val_input[index1,0],c=\"#0000ff\")\n",
    "plt.show()"
   ]
  },
  {
   "cell_type": "code",
   "execution_count": 18,
   "id": "e1e0fc0a",
   "metadata": {},
   "outputs": [
    {
     "name": "stdout",
     "output_type": "stream",
     "text": [
      "0.9971133028626413\n",
      "0.864423076923077\n"
     ]
    }
   ],
   "source": [
    "from sklearn.tree import DecisionTreeClassifier\n",
    "#과대적합\n",
    "\n",
    "dt=DecisionTreeClassifier(random_state=42)\n",
    "dt.fit(sub_input,sub_target)\n",
    "\n",
    "print(dt.score(sub_input,sub_target))\n",
    "print(dt.score(val_input,val_target))"
   ]
  },
  {
   "cell_type": "code",
   "execution_count": 19,
   "id": "5343dacf",
   "metadata": {},
   "outputs": [
    {
     "name": "stdout",
     "output_type": "stream",
     "text": [
      "[0. 0.]\n"
     ]
    }
   ],
   "source": [
    "pred=dt.predict([[9.4,1.9,3.51],[9.3,1.5,3.5]])\n",
    "print(pred)\n",
    "print(dt.)"
   ]
  },
  {
   "cell_type": "markdown",
   "id": "abb52786",
   "metadata": {},
   "source": [
    "### 교차 검증\n",
    "검증 세트를 만드느라 훈련 세트가 줄었음 보통 많은 데이터를 훈련에 사용하면 좋지만 너무 적은 검증 세트는 불안정하고 좋지않음<br>\n",
    "이럴 때 **교차 검증**을 이용하여 안정적인 검증 점수를 얻음<br><br>\n",
    "다음은 3-폴드 교차 검증그림 (보통 5-폴드 교차 검증이나 10-폴드 교차 검증을 많이 사용함)\n",
    "![교차검증](https://thebook.io/img/006975/130.jpg)"
   ]
  },
  {
   "cell_type": "code",
   "execution_count": 20,
   "id": "95b70bcd",
   "metadata": {},
   "outputs": [
    {
     "name": "stdout",
     "output_type": "stream",
     "text": [
      "{'fit_time': array([0.00598431, 0.0039885 , 0.0039897 , 0.00398946, 0.00398898]), 'score_time': array([0.        , 0.        , 0.00099707, 0.        , 0.        ]), 'test_score': array([0.86923077, 0.84615385, 0.87680462, 0.84889317, 0.83541867])}\n"
     ]
    }
   ],
   "source": [
    "from sklearn.model_selection import cross_validate\n",
    "\n",
    "#처음 두 키는 각각 모델을 훈련하는 시간과 검증하는 시간을 의미\n",
    "#기본적으로 5-폴드 교차 검증 수행\n",
    "scores=cross_validate(dt,train_input,train_target)\n",
    "print(scores)"
   ]
  },
  {
   "cell_type": "code",
   "execution_count": 21,
   "id": "44006bb8",
   "metadata": {},
   "outputs": [
    {
     "name": "stdout",
     "output_type": "stream",
     "text": [
      "0.855300214703487\n"
     ]
    }
   ],
   "source": [
    "import numpy as np\n",
    "\n",
    "print(np.mean(scores['test_score']))"
   ]
  },
  {
   "cell_type": "code",
   "execution_count": 22,
   "id": "f45ca6df",
   "metadata": {},
   "outputs": [
    {
     "name": "stdout",
     "output_type": "stream",
     "text": [
      "0.855300214703487\n"
     ]
    }
   ],
   "source": [
    "from sklearn.model_selection import StratifiedKFold\n",
    "\n",
    "#분류 모델일 경우 타깃 클래스를 골고루 나누기 위해 StratifiedKFold를 사용\n",
    "scores=cross_validate(dt,train_input,train_target,cv=StratifiedKFold())\n",
    "print(np.mean(scores['test_score']))"
   ]
  },
  {
   "cell_type": "code",
   "execution_count": 23,
   "id": "331b7588",
   "metadata": {},
   "outputs": [
    {
     "name": "stdout",
     "output_type": "stream",
     "text": [
      "0.8574181117533719\n"
     ]
    }
   ],
   "source": [
    "#훈련 세트를 섞은 후 10-폴드 교차 검증 수행\n",
    "splitter=StratifiedKFold(n_splits=10,shuffle=True,random_state=42)\n",
    "scores=cross_validate(dt,train_input,train_target,cv=splitter)\n",
    "print(np.mean(scores['test_score']))"
   ]
  },
  {
   "cell_type": "markdown",
   "id": "56671a07",
   "metadata": {},
   "source": [
    "### 하이퍼파라미터 튜닝"
   ]
  },
  {
   "cell_type": "code",
   "execution_count": 24,
   "id": "5760803c",
   "metadata": {},
   "outputs": [],
   "source": [
    "from sklearn.model_selection import GridSearchCV #하이퍼파라미터 탐색과 교차 검증을 한 번에 수행\n",
    "params={'min_impurity_decrease':[0.001,0.002,0.003,0.004,0.005]}"
   ]
  },
  {
   "cell_type": "code",
   "execution_count": 27,
   "id": "c3fb8c78",
   "metadata": {},
   "outputs": [],
   "source": [
    "gs=GridSearchCV(DecisionTreeClassifier(random_state=42),params,n_jobs=-1) #시스템에 있는 모든 코어를 사용"
   ]
  },
  {
   "cell_type": "code",
   "execution_count": 34,
   "id": "f0913a89",
   "metadata": {},
   "outputs": [
    {
     "data": {
      "text/plain": [
       "GridSearchCV(estimator=DecisionTreeClassifier(random_state=42), n_jobs=-1,\n",
       "             param_grid={'min_impurity_decrease': [0.001, 0.002, 0.003, 0.004,\n",
       "                                                   0.005]})"
      ]
     },
     "execution_count": 34,
     "metadata": {},
     "output_type": "execute_result"
    }
   ],
   "source": [
    "gs.fit(train_input,train_target) #결정 트리 모델 min_impurity_decrease 값을 바꿔가며 총 5번 실행"
   ]
  },
  {
   "cell_type": "code",
   "execution_count": 35,
   "id": "bb1c228b",
   "metadata": {},
   "outputs": [
    {
     "name": "stdout",
     "output_type": "stream",
     "text": [
      "0.8724263998460651\n"
     ]
    }
   ],
   "source": [
    "#Gridsearch는 훈련이 끝나면 검증 점수가 가장 높은 모델의 매개변수 조합으로 전체 훈련세트에 자동으로 다시 모델을 훈련함\n",
    "dt=gs.best_estimator_ #최적의 매개변수가 저장됨\n",
    "print(dt.score(train_input,train_target))"
   ]
  },
  {
   "cell_type": "code",
   "execution_count": 36,
   "id": "bf196d64",
   "metadata": {},
   "outputs": [
    {
     "name": "stdout",
     "output_type": "stream",
     "text": [
      "{'min_impurity_decrease': 0.001}\n"
     ]
    }
   ],
   "source": [
    "print(gs.best_params_)"
   ]
  },
  {
   "cell_type": "code",
   "execution_count": 37,
   "id": "3d1b9378",
   "metadata": {},
   "outputs": [
    {
     "name": "stdout",
     "output_type": "stream",
     "text": [
      "[0.86165044 0.85761105 0.85607111 0.85414803 0.85318557]\n"
     ]
    }
   ],
   "source": [
    "print(gs.cv_results_['mean_test_score'])"
   ]
  },
  {
   "cell_type": "code",
   "execution_count": 38,
   "id": "5e2fd5cd",
   "metadata": {},
   "outputs": [
    {
     "name": "stdout",
     "output_type": "stream",
     "text": [
      "{'min_impurity_decrease': 0.001}\n"
     ]
    }
   ],
   "source": [
    "best_index = np.argmax(gs.cv_results_['mean_test_score'])\n",
    "print(gs.cv_results_['params'][best_index])"
   ]
  },
  {
   "cell_type": "markdown",
   "id": "1e9903b0",
   "metadata": {},
   "source": [
    "1. 먼저 탐색할 매개변수 지정<br>\n",
    "2. 그 다음 훈련 세트에서 그리드 서치를 수행하여 최상의 평균 검증 점수가 나오는 매개변수 조합을 찾음, 그리고 객체에 저장됨<br>\n",
    "3. 그리드 서치는 최상의 매개변수에서 전체 훈련 세트를 사용해 최종 모델을 훈련, 이 모델도 그리드 서치 객체 저정됨<br><br>\n",
    "조금 더 복잡한 매개변수 조합은 max_depth로 트리의 깊이, min_samples_split으로 노드를 나누기 위한 최소 샘플 수 지정"
   ]
  },
  {
   "cell_type": "code",
   "execution_count": 39,
   "id": "874227de",
   "metadata": {},
   "outputs": [],
   "source": [
    "#총 9x15x10=1,350번 교차 검증함\n",
    "#기본 5-폴드 교차 검증을 수행하므로 6,750개의 모델이 만들어짐 \n",
    "params = {'min_impurity_decrease': np.arange(0.0001, 0.001, 0.0001),\n",
    "          'max_depth': range(5, 20, 1),\n",
    "          'min_samples_split': range(2, 100, 10)\n",
    "          }"
   ]
  },
  {
   "cell_type": "code",
   "execution_count": 40,
   "id": "bd20377a",
   "metadata": {},
   "outputs": [
    {
     "data": {
      "text/plain": [
       "GridSearchCV(estimator=DecisionTreeClassifier(random_state=42), n_jobs=-1,\n",
       "             param_grid={'max_depth': range(5, 20),\n",
       "                         'min_impurity_decrease': array([0.0001, 0.0002, 0.0003, 0.0004, 0.0005, 0.0006, 0.0007, 0.0008,\n",
       "       0.0009]),\n",
       "                         'min_samples_split': range(2, 100, 10)})"
      ]
     },
     "execution_count": 40,
     "metadata": {},
     "output_type": "execute_result"
    }
   ],
   "source": [
    "gs = GridSearchCV(DecisionTreeClassifier(random_state=42), params, n_jobs=-1)\n",
    "gs.fit(train_input, train_target)"
   ]
  },
  {
   "cell_type": "code",
   "execution_count": 41,
   "id": "56e942c7",
   "metadata": {},
   "outputs": [
    {
     "name": "stdout",
     "output_type": "stream",
     "text": [
      "{'max_depth': 14, 'min_impurity_decrease': 0.0004, 'min_samples_split': 12}\n"
     ]
    }
   ],
   "source": [
    "print(gs.best_params_)"
   ]
  },
  {
   "cell_type": "code",
   "execution_count": 42,
   "id": "2e2be797",
   "metadata": {},
   "outputs": [
    {
     "name": "stdout",
     "output_type": "stream",
     "text": [
      "0.8683865773302731\n"
     ]
    }
   ],
   "source": [
    "print(np.max(gs.cv_results_['mean_test_score']))"
   ]
  },
  {
   "cell_type": "markdown",
   "id": "d2cc7c37",
   "metadata": {},
   "source": [
    "### 랜덤 서치\n",
    "매개변수의 값이 수치일 때 값의 범위나 간격을 미리 정하기 어렵거나 너무 많은 조건이 있어 그리드 서치 수행 시간이 오래 걸릴 수 있음<br>\n",
    "**랜덤 서치**를 사용하여 매개변수를 샘플링할 수 있는 확률 분포 객체를 전달함"
   ]
  },
  {
   "cell_type": "code",
   "execution_count": 43,
   "id": "2b38cb4f",
   "metadata": {},
   "outputs": [],
   "source": [
    "from scipy.stats import uniform,randint #균등 분포에서 샘플링, uniform은 실숫값 randint는 정숫값 뽑음"
   ]
  },
  {
   "cell_type": "code",
   "execution_count": 44,
   "id": "9435cd85",
   "metadata": {},
   "outputs": [
    {
     "data": {
      "text/plain": [
       "array([5, 1, 8, 8, 5, 6, 9, 9, 5, 5])"
      ]
     },
     "execution_count": 44,
     "metadata": {},
     "output_type": "execute_result"
    }
   ],
   "source": [
    "rgen=randint(0,10)\n",
    "rgen.rvs(10)"
   ]
  },
  {
   "cell_type": "code",
   "execution_count": 45,
   "id": "43dee11b",
   "metadata": {},
   "outputs": [
    {
     "data": {
      "text/plain": [
       "(array([0, 1, 2, 3, 4, 5, 6, 7, 8, 9]),\n",
       " array([117, 101,  92,  85,  93,  92,  99, 106, 121,  94], dtype=int64))"
      ]
     },
     "execution_count": 45,
     "metadata": {},
     "output_type": "execute_result"
    }
   ],
   "source": [
    "np.unique(rgen.rvs(1000),return_counts=True)"
   ]
  },
  {
   "cell_type": "code",
   "execution_count": 46,
   "id": "da9f0650",
   "metadata": {},
   "outputs": [
    {
     "data": {
      "text/plain": [
       "array([0.44423298, 0.824947  , 0.26675825, 0.40426508, 0.45416524,\n",
       "       0.29628519, 0.11258913, 0.17840249, 0.91895079, 0.58431846])"
      ]
     },
     "execution_count": 46,
     "metadata": {},
     "output_type": "execute_result"
    }
   ],
   "source": [
    "ugen = uniform(0, 1)\n",
    "ugen.rvs(10)"
   ]
  },
  {
   "cell_type": "code",
   "execution_count": 47,
   "id": "9d36d71c",
   "metadata": {},
   "outputs": [],
   "source": [
    "params = {'min_impurity_decrease': uniform(0.0001, 0.001),\n",
    "          'max_depth': randint(20, 50),\n",
    "          'min_samples_split': randint(2, 25),\n",
    "          'min_samples_leaf': randint(1, 25), #리프 노드가 되기위한 최소 샘플의 개수\n",
    "          }\n",
    "#자식 노드의 샘플 수가 min_samples_leaf보다 값이 작을 경우 분할하지 않음"
   ]
  },
  {
   "cell_type": "code",
   "execution_count": 48,
   "id": "f593a306",
   "metadata": {},
   "outputs": [
    {
     "data": {
      "text/plain": [
       "RandomizedSearchCV(estimator=DecisionTreeClassifier(random_state=42),\n",
       "                   n_iter=100, n_jobs=-1,\n",
       "                   param_distributions={'max_depth': <scipy.stats._distn_infrastructure.rv_frozen object at 0x00000272CAE882B0>,\n",
       "                                        'min_impurity_decrease': <scipy.stats._distn_infrastructure.rv_frozen object at 0x00000272CB8D59D0>,\n",
       "                                        'min_samples_leaf': <scipy.stats._distn_infrastructure.rv_frozen object at 0x00000272CAE88F40>,\n",
       "                                        'min_samples_split': <scipy.stats._distn_infrastructure.rv_frozen object at 0x00000272CB891EB0>},\n",
       "                   random_state=42)"
      ]
     },
     "execution_count": 48,
     "metadata": {},
     "output_type": "execute_result"
    }
   ],
   "source": [
    "from sklearn.model_selection import RandomizedSearchCV\n",
    "\n",
    "#그리드 서치보다 교차 검증 수를 줄이면서 넓은 영역을 효과적으로 탐색할 수 있음\n",
    "gs = RandomizedSearchCV(DecisionTreeClassifier(random_state=42), params, \n",
    "                        n_iter=100, n_jobs=-1, random_state=42) #100번 수행\n",
    "gs.fit(train_input, train_target)"
   ]
  },
  {
   "cell_type": "code",
   "execution_count": 49,
   "id": "a1c10efe",
   "metadata": {},
   "outputs": [
    {
     "name": "stdout",
     "output_type": "stream",
     "text": [
      "{'max_depth': 39, 'min_impurity_decrease': 0.00034102546602601173, 'min_samples_leaf': 7, 'min_samples_split': 13}\n"
     ]
    }
   ],
   "source": [
    "print(gs.best_params_)"
   ]
  },
  {
   "cell_type": "code",
   "execution_count": 50,
   "id": "b9f3d4b7",
   "metadata": {},
   "outputs": [
    {
     "name": "stdout",
     "output_type": "stream",
     "text": [
      "0.8695428296438884\n"
     ]
    }
   ],
   "source": [
    "print(np.max(gs.cv_results_['mean_test_score']))"
   ]
  },
  {
   "cell_type": "code",
   "execution_count": 51,
   "id": "2556861e",
   "metadata": {},
   "outputs": [
    {
     "name": "stdout",
     "output_type": "stream",
     "text": [
      "0.86\n"
     ]
    }
   ],
   "source": [
    "dt = gs.best_estimator_\n",
    "\n",
    "print(dt.score(test_input, test_target))"
   ]
  }
 ],
 "metadata": {
  "kernelspec": {
   "display_name": "Python 3 (ipykernel)",
   "language": "python",
   "name": "python3"
  },
  "language_info": {
   "codemirror_mode": {
    "name": "ipython",
    "version": 3
   },
   "file_extension": ".py",
   "mimetype": "text/x-python",
   "name": "python",
   "nbconvert_exporter": "python",
   "pygments_lexer": "ipython3",
   "version": "3.9.12"
  }
 },
 "nbformat": 4,
 "nbformat_minor": 5
}
