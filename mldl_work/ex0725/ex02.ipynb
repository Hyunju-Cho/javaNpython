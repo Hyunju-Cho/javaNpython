{
 "cells": [
  {
   "cell_type": "markdown",
   "id": "483bfa18",
   "metadata": {},
   "source": [
    "## 트리의 앙상블"
   ]
  },
  {
   "cell_type": "markdown",
   "id": "e2237327",
   "metadata": {},
   "source": [
    "### 랜덤포레스트\n",
    "결정 트리를 랜덤하게 만들어 결정 트리의 **숲**을 만듦 그리고 각 결정 트리의 예측을 사용해 최종 예측을 만듦<br>\n",
    "데이터 세트에서 중복을 허용하여 데이터를 샘플링하는데 이것을 **부트스트랩**이라 함<br>\n",
    "![랜덤포레스트](https://img1.daumcdn.net/thumb/R1280x0/?scode=mtistory2&fname=https%3A%2F%2Fblog.kakaocdn.net%2Fdn%2F5IHJQ%2FbtqXRvIzVQi%2FFAQNXxLkfn9xA69nun9qZ1%2Fimg.png)<br>\n",
    "분류: 각 트리의 클래스별 확률을 평가하여 가장 높은 확률을 가진 클래스를 예측으로 삼음<br>\n",
    "회귀: 단순히 각 트리의 예측을 평균<br><br>\n",
    "훈련 세트에 과대적합되는 것을 막고 검증 세트와 테스트 세트에서 안정적인 성능을 얻을 수 있음"
   ]
  },
  {
   "cell_type": "code",
   "execution_count": 2,
   "id": "0fc446ba",
   "metadata": {},
   "outputs": [],
   "source": [
    "import numpy as np\n",
    "import pandas as pd\n",
    "from sklearn.model_selection import train_test_split\n",
    "\n",
    "wine = pd.read_csv('wine.csv')\n",
    "\n",
    "data = wine[['alcohol', 'sugar', 'pH']].to_numpy()\n",
    "target = wine['class'].to_numpy()\n",
    "\n",
    "train_input, test_input, train_target, test_target = train_test_split(data, target, test_size=0.2, random_state=42)"
   ]
  },
  {
   "cell_type": "code",
   "execution_count": 3,
   "id": "c71dd878",
   "metadata": {},
   "outputs": [
    {
     "name": "stdout",
     "output_type": "stream",
     "text": [
      "0.9973541965122431 0.8905151032797809\n"
     ]
    }
   ],
   "source": [
    "from sklearn.model_selection import cross_validate\n",
    "from sklearn.ensemble import RandomForestClassifier\n",
    "\n",
    "rf = RandomForestClassifier(n_jobs=-1, random_state=42)\n",
    "scores = cross_validate(rf, train_input, train_target, return_train_score=True, n_jobs=-1)\n",
    "\n",
    "print(np.mean(scores['train_score']), np.mean(scores['test_score'])) #과대적합"
   ]
  },
  {
   "cell_type": "code",
   "execution_count": 4,
   "id": "53e37e5a",
   "metadata": {},
   "outputs": [
    {
     "name": "stdout",
     "output_type": "stream",
     "text": [
      "[0.23167441 0.50039841 0.26792718]\n"
     ]
    }
   ],
   "source": [
    "rf.fit(train_input, train_target)\n",
    "print(rf.feature_importances_)\n",
    "#앞에서 했던 '결정트리'에서 만든 특성 중요도와 비교할 때 당도의 중요도는 떨어지고 다른 특성의 중요도는 올라감\n",
    "#하나의 특성에 과도하게 집중하지 않고 좀 더 많으 특성이 훈련에 기여할 기회를 얻음"
   ]
  },
  {
   "cell_type": "markdown",
   "id": "d9f38d82",
   "metadata": {},
   "source": [
    "자체적으로 모델을 평가하는 점수를 얻을 수 있음<br>\n",
    "부트스트랩 샘플에 포함되지 않고 남는 샘플을 **OOB**샘플이라고 함<br>\n",
    "OOB 샘플을 사용하여 부트스트랩 샘플로 훈련한 결정 트리를 평가할 수 있음"
   ]
  },
  {
   "cell_type": "code",
   "execution_count": 5,
   "id": "6c4a1a49",
   "metadata": {},
   "outputs": [
    {
     "name": "stdout",
     "output_type": "stream",
     "text": [
      "0.8934000384837406\n"
     ]
    }
   ],
   "source": [
    "rf = RandomForestClassifier(oob_score=True, n_jobs=-1, random_state=42)\n",
    "\n",
    "rf.fit(train_input, train_target)\n",
    "print(rf.oob_score_) #교차검증에서 얻은 점수와 매우 비슷한 결과를 얻음"
   ]
  },
  {
   "cell_type": "markdown",
   "id": "369eb558",
   "metadata": {},
   "source": [
    "### 엑스트라트리\n",
    "부트스트랩을 사용하지 않는다는 점에서 차이가 나옴 즉, 전체 훈련 세트를 사용함<br>\n",
    "그러나 노드를 분할할 때 가장 좋은 분할을 찾는 것이 아닌 무작위로 분할! => 과대적합 막고 검증 세트의 점수를 높이는 효과가 있음<br>"
   ]
  },
  {
   "cell_type": "code",
   "execution_count": 8,
   "id": "0c188240",
   "metadata": {},
   "outputs": [
    {
     "name": "stdout",
     "output_type": "stream",
     "text": [
      "0.9974503966084433 0.8887848893166506\n"
     ]
    }
   ],
   "source": [
    "from sklearn.ensemble import ExtraTreesClassifier\n",
    "\n",
    "#랜덤하게 노드를 분할하여 계산 속도가 빠름\n",
    "et = ExtraTreesClassifier(n_jobs=-1, random_state=42)\n",
    "scores = cross_validate(et, train_input, train_target, return_train_score=True, n_jobs=-1)\n",
    "\n",
    "print(np.mean(scores['train_score']), np.mean(scores['test_score']))"
   ]
  },
  {
   "cell_type": "code",
   "execution_count": 9,
   "id": "9a4349a9",
   "metadata": {},
   "outputs": [
    {
     "name": "stdout",
     "output_type": "stream",
     "text": [
      "[0.20183568 0.52242907 0.27573525]\n"
     ]
    }
   ],
   "source": [
    "et.fit(train_input, train_target)\n",
    "print(et.feature_importances_) #결정 트리보다 당도에 대한 의존성이 작음"
   ]
  },
  {
   "cell_type": "markdown",
   "id": "585ab74e",
   "metadata": {},
   "source": [
    "### 그레이디언트 부스팅\n",
    "깊이가 얕은 결정 트리를 사용하여 이전 트리의 오차를 보완하는 방식으로 앙상블 하는 방법<br>\n",
    "기본적으로 깊이가 3인 결정 트리를 100개 사용, 과대적합에 강하고 일반적으로 높은 일반화 성능을 기대할 수 있음"
   ]
  },
  {
   "cell_type": "code",
   "execution_count": 10,
   "id": "f69d53a2",
   "metadata": {},
   "outputs": [
    {
     "name": "stdout",
     "output_type": "stream",
     "text": [
      "0.8881086892152563 0.8720430147331015\n"
     ]
    }
   ],
   "source": [
    "from sklearn.ensemble import GradientBoostingClassifier\n",
    "\n",
    "gb = GradientBoostingClassifier(random_state=42)\n",
    "scores = cross_validate(gb, train_input, train_target, return_train_score=True, n_jobs=-1)\n",
    "\n",
    "print(np.mean(scores['train_score']), np.mean(scores['test_score'])) #과대적합이 되지 않음!"
   ]
  },
  {
   "cell_type": "code",
   "execution_count": 11,
   "id": "128b696f",
   "metadata": {},
   "outputs": [
    {
     "name": "stdout",
     "output_type": "stream",
     "text": [
      "0.9464595437171814 0.8780082549788999\n"
     ]
    }
   ],
   "source": [
    "gb = GradientBoostingClassifier(n_estimators=500, learning_rate=0.2, random_state=42)#결정 트리 개수를 500개로 늘림\n",
    "scores = cross_validate(gb, train_input, train_target, return_train_score=True, n_jobs=-1)\n",
    "\n",
    "print(np.mean(scores['train_score']), np.mean(scores['test_score'])) #과대적합 잘 억제"
   ]
  },
  {
   "cell_type": "code",
   "execution_count": 13,
   "id": "87a36d89",
   "metadata": {},
   "outputs": [
    {
     "name": "stdout",
     "output_type": "stream",
     "text": [
      "[0.15872278 0.68011572 0.16116151]\n"
     ]
    }
   ],
   "source": [
    "#순서대로 트리를 추가하여 훈련 속도는 느린편(n_jobs 매개변수가 없음)\n",
    "gb.fit(train_input, train_target)\n",
    "print(gb.feature_importances_) #랜덤 포레스트보다 일부 특성(당도)에 더 집중함"
   ]
  },
  {
   "cell_type": "markdown",
   "id": "be470d1b",
   "metadata": {},
   "source": [
    "### 히스토그램 기반 부스팅\n",
    "입력 특성을 256개의 구간으로 나눔(최적의 분할을 매우 빠르게 찾을 수 있음)<br>\n",
    "256개의 구간 중에서 하나를 떼어 놓고 누락된 값을 위해서 사용 그래서 누락된 특성이 있더라도 따로 전처리할 필요 없음!<br>"
   ]
  },
  {
   "cell_type": "code",
   "execution_count": 14,
   "id": "0a1d784c",
   "metadata": {},
   "outputs": [
    {
     "name": "stdout",
     "output_type": "stream",
     "text": [
      "0.9321723946453317 0.8801241948619236\n"
     ]
    }
   ],
   "source": [
    "from sklearn.ensemble import HistGradientBoostingClassifier\n",
    "\n",
    "hgb = HistGradientBoostingClassifier(random_state=42)\n",
    "scores = cross_validate(hgb, train_input, train_target, return_train_score=True, n_jobs=-1)\n",
    "\n",
    "print(np.mean(scores['train_score']), np.mean(scores['test_score']))#그레이디언트보다 조금 더 높은 성능 제공"
   ]
  },
  {
   "cell_type": "code",
   "execution_count": 15,
   "id": "ce6a876c",
   "metadata": {},
   "outputs": [
    {
     "name": "stdout",
     "output_type": "stream",
     "text": [
      "[0.08876275 0.23438522 0.08027708]\n"
     ]
    }
   ],
   "source": [
    "#permutation_importance() 특성을 하나씩 랜덤하게 섞어서 모델의 성능이 변화하는지를 관찰하여 어떤 특성이 더 중요한 지 계산\n",
    "from sklearn.inspection import permutation_importance\n",
    "\n",
    "# 훈련 세트에서 특성 중요도 계산\n",
    "hgb.fit(train_input, train_target)\n",
    "result = permutation_importance(hgb, train_input, train_target, n_repeats=10,\n",
    "                                random_state=42, n_jobs=-1)\n",
    "print(result.importances_mean) #특성 중요도 평균 출력, 랜덤 포레스트와 비슷"
   ]
  },
  {
   "cell_type": "code",
   "execution_count": 16,
   "id": "0d6c6e3a",
   "metadata": {},
   "outputs": [
    {
     "name": "stdout",
     "output_type": "stream",
     "text": [
      "[0.05969231 0.20238462 0.049     ]\n"
     ]
    }
   ],
   "source": [
    "# 테스트 세트에서 특성 중요도 계산\n",
    "result = permutation_importance(hgb, test_input, test_target, n_repeats=10,\n",
    "                                random_state=42, n_jobs=-1)\n",
    "print(result.importances_mean)#조금 더 당도에 집중"
   ]
  },
  {
   "cell_type": "code",
   "execution_count": 17,
   "id": "80da214a",
   "metadata": {},
   "outputs": [
    {
     "data": {
      "text/plain": [
       "0.8723076923076923"
      ]
     },
     "execution_count": 17,
     "metadata": {},
     "output_type": "execute_result"
    }
   ],
   "source": [
    "hgb.score(test_input, test_target) #약 87% 정확도 얻음"
   ]
  },
  {
   "cell_type": "markdown",
   "id": "1aac8a5c",
   "metadata": {},
   "source": [
    "사이킷런 말고도 그레이디언트 부스팅 알고리즘을 구현한 라이브러리가 여럿 있음<br>\n",
    "대표적으로 **XGBoost**와 **LightGBM**이 있음"
   ]
  },
  {
   "cell_type": "code",
   "execution_count": 19,
   "id": "f1a0aad7",
   "metadata": {},
   "outputs": [
    {
     "name": "stdout",
     "output_type": "stream",
     "text": [
      "Collecting xgboost\n",
      "  Downloading xgboost-1.6.1-py3-none-win_amd64.whl (125.4 MB)\n",
      "     ------------------------------------- 125.4/125.4 MB 34.4 MB/s eta 0:00:00\n",
      "Requirement already satisfied: scipy in c:\\users\\20\\anaconda3\\lib\\site-packages (from xgboost) (1.7.3)\n",
      "Requirement already satisfied: numpy in c:\\users\\20\\anaconda3\\lib\\site-packages (from xgboost) (1.21.5)\n",
      "Installing collected packages: xgboost\n",
      "Successfully installed xgboost-1.6.1\n",
      "Note: you may need to restart the kernel to use updated packages.\n"
     ]
    }
   ],
   "source": [
    "pip install xgboost"
   ]
  },
  {
   "cell_type": "code",
   "execution_count": 20,
   "id": "7d9dc55a",
   "metadata": {},
   "outputs": [
    {
     "name": "stdout",
     "output_type": "stream",
     "text": [
      "0.9555033709953124 0.8799326275264677\n"
     ]
    }
   ],
   "source": [
    "from xgboost import XGBClassifier\n",
    "\n",
    "xgb = XGBClassifier(tree_method='hist', random_state=42)\n",
    "scores = cross_validate(xgb, train_input, train_target, return_train_score=True, n_jobs=-1)\n",
    "\n",
    "print(np.mean(scores['train_score']), np.mean(scores['test_score']))"
   ]
  },
  {
   "cell_type": "code",
   "execution_count": 22,
   "id": "6fca522d",
   "metadata": {},
   "outputs": [
    {
     "name": "stdout",
     "output_type": "stream",
     "text": [
      "Collecting lightgbm\n",
      "  Downloading lightgbm-3.3.2-py3-none-win_amd64.whl (1.0 MB)\n",
      "     ---------------------------------------- 1.0/1.0 MB 10.7 MB/s eta 0:00:00\n",
      "Requirement already satisfied: wheel in c:\\users\\20\\anaconda3\\lib\\site-packages (from lightgbm) (0.37.1)\n",
      "Requirement already satisfied: scipy in c:\\users\\20\\anaconda3\\lib\\site-packages (from lightgbm) (1.7.3)\n",
      "Requirement already satisfied: scikit-learn!=0.22.0 in c:\\users\\20\\anaconda3\\lib\\site-packages (from lightgbm) (1.0.2)\n",
      "Requirement already satisfied: numpy in c:\\users\\20\\anaconda3\\lib\\site-packages (from lightgbm) (1.21.5)\n",
      "Requirement already satisfied: joblib>=0.11 in c:\\users\\20\\anaconda3\\lib\\site-packages (from scikit-learn!=0.22.0->lightgbm) (1.1.0)\n",
      "Requirement already satisfied: threadpoolctl>=2.0.0 in c:\\users\\20\\anaconda3\\lib\\site-packages (from scikit-learn!=0.22.0->lightgbm) (2.2.0)\n",
      "Installing collected packages: lightgbm\n",
      "Successfully installed lightgbm-3.3.2\n",
      "Note: you may need to restart the kernel to use updated packages.\n"
     ]
    }
   ],
   "source": [
    "pip install lightgbm"
   ]
  },
  {
   "cell_type": "code",
   "execution_count": 23,
   "id": "625b2fc8",
   "metadata": {},
   "outputs": [
    {
     "name": "stdout",
     "output_type": "stream",
     "text": [
      "0.935828414851749 0.8801251203079884\n"
     ]
    }
   ],
   "source": [
    "from lightgbm import LGBMClassifier\n",
    "\n",
    "lgb = LGBMClassifier(random_state=42)\n",
    "scores = cross_validate(lgb, train_input, train_target, return_train_score=True, n_jobs=-1)\n",
    "\n",
    "print(np.mean(scores['train_score']), np.mean(scores['test_score']))"
   ]
  }
 ],
 "metadata": {
  "kernelspec": {
   "display_name": "Python 3 (ipykernel)",
   "language": "python",
   "name": "python3"
  },
  "language_info": {
   "codemirror_mode": {
    "name": "ipython",
    "version": 3
   },
   "file_extension": ".py",
   "mimetype": "text/x-python",
   "name": "python",
   "nbconvert_exporter": "python",
   "pygments_lexer": "ipython3",
   "version": "3.9.12"
  }
 },
 "nbformat": 4,
 "nbformat_minor": 5
}
