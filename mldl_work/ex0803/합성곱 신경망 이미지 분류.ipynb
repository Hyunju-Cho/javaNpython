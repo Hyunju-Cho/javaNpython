{
 "cells": [
  {
   "cell_type": "markdown",
   "id": "f955fd95",
   "metadata": {},
   "source": [
    "## 합성곱 신경망을 사용한 이미지 분류"
   ]
  },
  {
   "cell_type": "code",
   "execution_count": 1,
   "id": "35a3b610",
   "metadata": {},
   "outputs": [],
   "source": [
    "import tensorflow as tf\n",
    "\n",
    "tf.keras.utils.set_random_seed(42)\n",
    "tf.config.experimental.enable_op_determinism()"
   ]
  },
  {
   "cell_type": "markdown",
   "id": "d0f0e9ea",
   "metadata": {},
   "source": [
    "### 패션 MNIST 데이터 불러오기"
   ]
  },
  {
   "cell_type": "code",
   "execution_count": 2,
   "id": "a60d28cf",
   "metadata": {},
   "outputs": [],
   "source": [
    "from tensorflow import keras\n",
    "from sklearn.model_selection import train_test_split\n",
    "\n",
    "(train_input, train_target), (test_input, test_target) = \\\n",
    "    keras.datasets.fashion_mnist.load_data()\n",
    "train_scaled=train_input.reshape(-1,28,28,1)/255.0 #2차원 배열 그대로 사용하며 깊이가 1임\n",
    "\n",
    "train_scaled, val_scaled, train_target, val_target = train_test_split(\n",
    "    train_scaled, train_target, test_size=0.2, random_state=42)"
   ]
  },
  {
   "cell_type": "markdown",
   "id": "977affb6",
   "metadata": {},
   "source": [
    "![데이터](https://img1.daumcdn.net/thumb/R1280x0/?scode=mtistory2&fname=https%3A%2F%2Fblog.kakaocdn.net%2Fdn%2FcYfrNN%2FbtrkvIMWkw5%2FCuYJ2TQ14Jsz5TJzJrvAc0%2Fimg.png)"
   ]
  },
  {
   "cell_type": "markdown",
   "id": "cae75255",
   "metadata": {},
   "source": [
    "### 합성곱 신경망 만들기"
   ]
  },
  {
   "cell_type": "markdown",
   "id": "b205c357",
   "metadata": {},
   "source": [
    "![합성곱](https://img1.daumcdn.net/thumb/R1280x0/?scode=mtistory2&fname=https%3A%2F%2Fblog.kakaocdn.net%2Fdn%2FbYj5Xu%2FbtrkyPLe9j5%2FUntgosNjVlZLTSKiVS3tjK%2Fimg.png)"
   ]
  },
  {
   "cell_type": "code",
   "execution_count": 3,
   "id": "77773637",
   "metadata": {},
   "outputs": [],
   "source": [
    "model=keras.Sequential()"
   ]
  },
  {
   "cell_type": "code",
   "execution_count": 4,
   "id": "1c000fd7",
   "metadata": {},
   "outputs": [],
   "source": [
    "#32개의 필터, 커널의 크기는 (3,3), 첫 번째 층에서 입력의 차원 지정\n",
    "#32개가 쌓이며 same padding을 사용했기 때문에 너비와 높이가 28*28로 유지되며 깊이도 32개가 채워짐\n",
    "model.add(keras.layers.Conv2D(32,kernel_size=3,activation='relu',padding='same',input_shape=(28,28,1)))"
   ]
  },
  {
   "cell_type": "code",
   "execution_count": 5,
   "id": "93ad497f",
   "metadata": {},
   "outputs": [],
   "source": [
    "#첫 번째 최대 풀링 층 추가 \n",
    "#28*28 -> 14*14로 줄어듦, 깊이는 동일하게 유지됨\n",
    "model.add(keras.layers.MaxPooling2D(2))"
   ]
  },
  {
   "cell_type": "markdown",
   "id": "72efe6d5",
   "metadata": {},
   "source": [
    "![합성곱](https://img1.daumcdn.net/thumb/R1280x0/?scode=mtistory2&fname=https%3A%2F%2Fblog.kakaocdn.net%2Fdn%2FyX2Bb%2FbtrkxOFyHjC%2FrhySZLPQKulm9TVkhkiVGK%2Fimg.png)"
   ]
  },
  {
   "cell_type": "code",
   "execution_count": 6,
   "id": "06ed5244",
   "metadata": {},
   "outputs": [],
   "source": [
    "#두 번째 합성곱 층 추가\n",
    "#필터의 개수를 64개로 늘린 것만 다르고 나머지는 모두 같음\n",
    "#풀링 층에서 가로, 세로의 크기를 절반으로 줄어 최종 특성 맵의 크기는 (7,7,64)가 됨\n",
    "model.add(keras.layers.Conv2D(64,kernel_size=(3,3),activation='relu',padding='same')) #(14,14,64)\n",
    "model.add(keras.layers.MaxPooling2D(2)) #(7,7,64)"
   ]
  },
  {
   "cell_type": "code",
   "execution_count": 7,
   "id": "daed0717",
   "metadata": {},
   "outputs": [],
   "source": [
    "model.add(keras.layers.Flatten()) #3차원 특성 맵을 일렬로 펼침->밀집층에서 확률을 계산하기 때문\n",
    "model.add(keras.layers.Dense(100,activation='relu'))#첫 번째 은닉층(뉴런 100개)\n",
    "model.add(keras.layers.Dropout(0.4)) #40%정도 뉴런을 훈련시에 끄도록 지정(과대적합 막음)\n",
    "model.add(keras.layers.Dense(10,activation='softmax'))#10개의 확률을 얻음"
   ]
  },
  {
   "cell_type": "code",
   "execution_count": 8,
   "id": "dbd56fbb",
   "metadata": {},
   "outputs": [
    {
     "name": "stdout",
     "output_type": "stream",
     "text": [
      "Model: \"sequential\"\n",
      "_________________________________________________________________\n",
      " Layer (type)                Output Shape              Param #   \n",
      "=================================================================\n",
      " conv2d (Conv2D)             (None, 28, 28, 32)        320       \n",
      "                                                                 \n",
      " max_pooling2d (MaxPooling2D  (None, 14, 14, 32)       0         \n",
      " )                                                               \n",
      "                                                                 \n",
      " conv2d_1 (Conv2D)           (None, 14, 14, 64)        18496     \n",
      "                                                                 \n",
      " max_pooling2d_1 (MaxPooling  (None, 7, 7, 64)         0         \n",
      " 2D)                                                             \n",
      "                                                                 \n",
      " flatten (Flatten)           (None, 3136)              0         \n",
      "                                                                 \n",
      " dense (Dense)               (None, 100)               313700    \n",
      "                                                                 \n",
      " dropout (Dropout)           (None, 100)               0         \n",
      "                                                                 \n",
      " dense_1 (Dense)             (None, 10)                1010      \n",
      "                                                                 \n",
      "=================================================================\n",
      "Total params: 333,526\n",
      "Trainable params: 333,526\n",
      "Non-trainable params: 0\n",
      "_________________________________________________________________\n"
     ]
    }
   ],
   "source": [
    "model.summary()"
   ]
  },
  {
   "cell_type": "markdown",
   "id": "a04b1b99",
   "metadata": {},
   "source": [
    "첫번째 합성곱 층은 32개의 필터를 가지고 있고 크기가 (3,3)이며 깊이는 1이다.<br>\n",
    "$ 3 \\times 3 \\times 1 \\times 32 + 32 = 320 $개의 파라미터<br>\n",
    "두번째 합성곱 층은 64개의 필터를 가지고 있고 크기가 (3,3)이며 깊이는 32이다.<br>\n",
    "$ 3 \\times 3 \\times 32 \\times 64 + 64 = 18496 $개의 파라미터<br>\n",
    "**합성곱 층은 적은 개수의 파라미터로도 효과적으로 이미지의 특징을 잘 잡아낼 수 있음**<br><br>\n",
    "은닉층의 모델 파라미터의 개수는 $ 3136 \\times 100 + 100 = 313700 $개<br>\n",
    "**완전연결층은 과대적합 되기 쉬움**<br>\n",
    "출력층의 모델 파라미터 개수는 $ 100 \\times 10 + 10 = 1010 $개"
   ]
  },
  {
   "cell_type": "code",
   "execution_count": 9,
   "id": "cf6722ca",
   "metadata": {},
   "outputs": [
    {
     "name": "stdout",
     "output_type": "stream",
     "text": [
      "You must install pydot (`pip install pydot`) and install graphviz (see instructions at https://graphviz.gitlab.io/download/) for plot_model/model_to_dot to work.\n"
     ]
    }
   ],
   "source": [
    "keras.utils.plot_model(model)"
   ]
  },
  {
   "cell_type": "code",
   "execution_count": 10,
   "id": "d86c0b6f",
   "metadata": {},
   "outputs": [
    {
     "name": "stdout",
     "output_type": "stream",
     "text": [
      "You must install pydot (`pip install pydot`) and install graphviz (see instructions at https://graphviz.gitlab.io/download/) for plot_model/model_to_dot to work.\n"
     ]
    }
   ],
   "source": [
    "#show_shapes=True: 입출력 크기 표시, to_file: 파일로 저장, dpi: 해상도 지정\n",
    "keras.utils.plot_model(model,show_shapes=True,to_file='cnn-architecture.png',dpi=300)"
   ]
  },
  {
   "cell_type": "markdown",
   "id": "37b2971b",
   "metadata": {},
   "source": [
    "### 모델 컴파일과 훈련"
   ]
  },
  {
   "cell_type": "code",
   "execution_count": 11,
   "id": "d7e9cb5d",
   "metadata": {},
   "outputs": [
    {
     "name": "stdout",
     "output_type": "stream",
     "text": [
      "Epoch 1/20\n",
      "1500/1500 [==============================] - 15s 10ms/step - loss: 0.5391 - accuracy: 0.8070 - val_loss: 0.3316 - val_accuracy: 0.8789\n",
      "Epoch 2/20\n",
      "1500/1500 [==============================] - 14s 10ms/step - loss: 0.3531 - accuracy: 0.8735 - val_loss: 0.2782 - val_accuracy: 0.8964\n",
      "Epoch 3/20\n",
      "1500/1500 [==============================] - 14s 10ms/step - loss: 0.3025 - accuracy: 0.8901 - val_loss: 0.2561 - val_accuracy: 0.9052\n",
      "Epoch 4/20\n",
      "1500/1500 [==============================] - 15s 10ms/step - loss: 0.2704 - accuracy: 0.9034 - val_loss: 0.2396 - val_accuracy: 0.9126\n",
      "Epoch 5/20\n",
      "1500/1500 [==============================] - 15s 10ms/step - loss: 0.2418 - accuracy: 0.9113 - val_loss: 0.2464 - val_accuracy: 0.9126\n",
      "Epoch 6/20\n",
      "1500/1500 [==============================] - 15s 10ms/step - loss: 0.2253 - accuracy: 0.9175 - val_loss: 0.2196 - val_accuracy: 0.9210\n",
      "Epoch 7/20\n",
      "1500/1500 [==============================] - 15s 10ms/step - loss: 0.2089 - accuracy: 0.9238 - val_loss: 0.2116 - val_accuracy: 0.9233\n",
      "Epoch 8/20\n",
      "1500/1500 [==============================] - 16s 10ms/step - loss: 0.1901 - accuracy: 0.9303 - val_loss: 0.2165 - val_accuracy: 0.9247\n",
      "Epoch 9/20\n",
      "1500/1500 [==============================] - 15s 10ms/step - loss: 0.1781 - accuracy: 0.9335 - val_loss: 0.2178 - val_accuracy: 0.9224\n"
     ]
    }
   ],
   "source": [
    "#훈련 세트의 정확도 상승\n",
    "model.compile(optimizer='adam',loss='sparse_categorical_crossentropy',metrics='accuracy')\n",
    "checkpoint_cb=keras.callbacks.ModelCheckpoint('best-cnn-model.h5')\n",
    "early_stopping_cb=keras.callbacks.EarlyStopping(patience=2,restore_best_weights=True)\n",
    "history=model.fit(train_scaled,train_target,epochs=20,validation_data=(val_scaled,val_target),callbacks=[checkpoint_cb,early_stopping_cb])"
   ]
  },
  {
   "cell_type": "code",
   "execution_count": 12,
   "id": "87b4514a",
   "metadata": {},
   "outputs": [
    {
     "data": {
      "image/png": "[encoded data removed]",
      "text/plain": [
       "<Figure size 432x288 with 1 Axes>"
      ]
     },
     "metadata": {
      "needs_background": "light"
     },
     "output_type": "display_data"
    }
   ],
   "source": [
    "import matplotlib.pyplot as plt\n",
    "plt.plot(history.history['loss'])\n",
    "plt.plot(history.history['val_loss'])\n",
    "plt.xlabel('epoch')\n",
    "plt.ylabel('loss')\n",
    "plt.legend(['train', 'val'])\n",
    "plt.show()"
   ]
  },
  {
   "cell_type": "code",
   "execution_count": 13,
   "id": "c90f9072",
   "metadata": {},
   "outputs": [
    {
     "name": "stdout",
     "output_type": "stream",
     "text": [
      "375/375 [==============================] - 1s 3ms/step - loss: 0.2116 - accuracy: 0.9233\n"
     ]
    },
    {
     "data": {
      "text/plain": [
       "[0.2115595042705536, 0.9233333468437195]"
      ]
     },
     "execution_count": 13,
     "metadata": {},
     "output_type": "execute_result"
    }
   ],
   "source": [
    "model.evaluate(val_scaled,val_target) #약 92%"
   ]
  },
  {
   "cell_type": "code",
   "execution_count": 14,
   "id": "79d41202",
   "metadata": {},
   "outputs": [
    {
     "data": {
      "image/png": "[encoded data removed]",
      "text/plain": [
       "<Figure size 432x288 with 1 Axes>"
      ]
     },
     "metadata": {
      "needs_background": "light"
     },
     "output_type": "display_data"
    }
   ],
   "source": [
    "plt.imshow(val_scaled[10].reshape(28,28),cmap='gray_r') #흑백은 깊이 차원이 업어서 (28,28)로 바꾸어 출력\n",
    "plt.show()"
   ]
  },
  {
   "cell_type": "code",
   "execution_count": 15,
   "id": "8c5a2d9f",
   "metadata": {},
   "outputs": [
    {
     "name": "stdout",
     "output_type": "stream",
     "text": [
      "1/1 [==============================] - 0s 73ms/step\n",
      "[[1.4727088e-02 7.1855857e-06 3.3995289e-05 9.6267784e-01 1.9206259e-03\n",
      "  3.0400338e-06 2.0532688e-02 3.3383509e-07 9.5379517e-05 1.8696089e-06]]\n"
     ]
    }
   ],
   "source": [
    "preds=model.predict(val_scaled[10:11])\n",
    "print(preds) #4번째 값이 거의 1에 가까움"
   ]
  },
  {
   "cell_type": "code",
   "execution_count": 16,
   "id": "fb2971c4",
   "metadata": {},
   "outputs": [
    {
     "data": {
      "image/png": "[encoded data removed]",
      "text/plain": [
       "<Figure size 432x288 with 1 Axes>"
      ]
     },
     "metadata": {
      "needs_background": "light"
     },
     "output_type": "display_data"
    }
   ],
   "source": [
    "plt.bar(range(1,11),preds[0])\n",
    "plt.xlabel('class')\n",
    "plt.ylabel('prob.')\n",
    "plt.show()"
   ]
  },
  {
   "cell_type": "code",
   "execution_count": 17,
   "id": "0e9f5bef",
   "metadata": {},
   "outputs": [
    {
     "name": "stdout",
     "output_type": "stream",
     "text": [
      "드레스\n"
     ]
    }
   ],
   "source": [
    "classes = ['티셔츠', '바지', '스웨터', '드레스', '코트', '샌달', '셔츠', '스니커즈', '가방', '앵클부츠']\n",
    "\n",
    "import numpy as np\n",
    "print(classes[np.argmax(preds)])"
   ]
  },
  {
   "cell_type": "code",
   "execution_count": 18,
   "id": "29b45aa7",
   "metadata": {},
   "outputs": [],
   "source": [
    "#테스트 세트로 합성곱 신경망 일반화 성능 측정\n",
    "#픽셀값 범위 0~1, 이미지 크기를 (28,28,1)로 바꿈\n",
    "test_scaled = test_input.reshape(-1, 28, 28, 1) / 255.0"
   ]
  },
  {
   "cell_type": "code",
   "execution_count": 19,
   "id": "251a2090",
   "metadata": {},
   "outputs": [
    {
     "name": "stdout",
     "output_type": "stream",
     "text": [
      "313/313 [==============================] - 1s 3ms/step - loss: 0.2285 - accuracy: 0.9172\n"
     ]
    },
    {
     "data": {
      "text/plain": [
       "[0.22853611409664154, 0.9172000288963318]"
      ]
     },
     "execution_count": 19,
     "metadata": {},
     "output_type": "execute_result"
    }
   ],
   "source": [
    "model.evaluate(test_scaled, test_target) #약 91%"
   ]
  }
 ],
 "metadata": {
  "kernelspec": {
   "display_name": "Python 3 (ipykernel)",
   "language": "python",
   "name": "python3"
  },
  "language_info": {
   "codemirror_mode": {
    "name": "ipython",
    "version": 3
   },
   "file_extension": ".py",
   "mimetype": "text/x-python",
   "name": "python",
   "nbconvert_exporter": "python",
   "pygments_lexer": "ipython3",
   "version": "3.9.12"
  }
 },
 "nbformat": 4,
 "nbformat_minor": 5
}
