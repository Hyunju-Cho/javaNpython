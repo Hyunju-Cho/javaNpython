{
 "cells": [
  {
   "cell_type": "markdown",
   "id": "f43b2dde",
   "metadata": {},
   "source": [
    "## 데이터 준비"
   ]
  },
  {
   "cell_type": "markdown",
   "id": "ca7a2a6d",
   "metadata": {},
   "source": [
    "이전에는 생선이 도미에 속하는지 빙어에 속하는지 '**분류**'하는 문제를 다룸<br>\n",
    "이제는 생선의 크기나 길이를 보고 생선의 무게를 예측하는 문제를 다룸 즉, **임의의 어떤 숫자를 예측하는** <span style=\"color:red\">회귀(Regression)</span>하는 문제를 다룸<br>\n",
    "<span style=\"color:red\">K-NN Regression(K-최근접 이웃 회귀) 알고리즘</span>은 **주변의 가장 가까운 K개의 샘플을 통해 값을 예측하는 방식**이다."
   ]
  },
  {
   "cell_type": "markdown",
   "id": "9c066432",
   "metadata": {},
   "source": [
    "<span style=\"color:blue\">KNeighborsRegressor</span>에 대하여<br>\n",
    "class sklearn.neighbors.KNeighborsRegressor(n_neighbors=5,weights='uniform', algorithm='auto',leaf_size=30, p=2, metric='minkowski', metric_params=None, n_jobs=None)<br>\n",
    "><span style=\"color:green\">n_neighbors</span>:int<br>\n",
    "**이웃의 수인 K 결정 default는 5**<br><br>\n",
    "<span style=\"color:green\">weights</span>:{'uniform','distance'} or callable<br>\n",
    "**예측에 사용되는 가중 방법을 결정함** default는 uniform<br>\n",
    "'uniform': 각각의 이웃이 모두 동일한 가중치<br>\n",
    "'distance':거리가 가까울수록 더 높은 가중치<br>\n",
    "'callable':사용자가 직접 정의한 함수를 사용할 수 있음, 거리와 가중치자 저장된 배열을 반환해야함<br><br>\n",
    "<span style=\"color:green\">algorithm</span>:{'auto','ball_tree','kd_tree','brute'<br>\n",
    "**가장 가까운 이웃들을 계산하는 데 사용한는 알고리즘 결정**<br><br>\n",
    "<span style=\"color:green\">leaf_size</span>:int<br>\n",
    "**Ball-tree나 KD-tree의 leaf size를 결정**<br>\n",
    "트리를 저장할 메모리 그리고 구성과 쿼리 처리 속도에 영향<br><br>\n",
    "<span style=\"color:green\">p</span>:int<br>\n",
    "**민코프스키 미터법(Minkowski)의 차수 결정**"
   ]
  },
  {
   "cell_type": "code",
   "execution_count": 80,
   "id": "d8e02c9f",
   "metadata": {},
   "outputs": [],
   "source": [
    "import numpy as np\n",
    "import pandas as pd\n",
    "import matplotlib.pyplot as plt"
   ]
  },
  {
   "cell_type": "code",
   "execution_count": 81,
   "id": "eae65d11",
   "metadata": {},
   "outputs": [
    {
     "name": "stdout",
     "output_type": "stream",
     "text": [
      "   length  weight\n",
      "0     8.4     5.9\n",
      "1    13.7    32.0\n",
      "2    15.0    40.0\n",
      "3    16.2    51.5\n",
      "4    17.4    70.0\n"
     ]
    }
   ],
   "source": [
    "data=pd.read_csv('chap3.csv')\n",
    "cols=data.columns[~data.columns.str.startswith('Unnamed:')]\n",
    "data1=data[cols]\n",
    "print(data1.head())"
   ]
  },
  {
   "cell_type": "code",
   "execution_count": 82,
   "id": "64584294",
   "metadata": {},
   "outputs": [],
   "source": [
    "length=data['length'].to_numpy()\n",
    "weight=data['weight'].to_numpy()"
   ]
  },
  {
   "cell_type": "code",
   "execution_count": 83,
   "id": "3f0b9da6",
   "metadata": {},
   "outputs": [
    {
     "data": {
      "image/png": "[encoded data removed]",
      "text/plain": [
       "<Figure size 432x288 with 1 Axes>"
      ]
     },
     "metadata": {
      "needs_background": "light"
     },
     "output_type": "display_data"
    }
   ],
   "source": [
    "plt.scatter(length,weight)\n",
    "plt.xlabel('length')\n",
    "plt.ylabel('weight')\n",
    "plt.show()"
   ]
  },
  {
   "cell_type": "code",
   "execution_count": 84,
   "id": "4b2130b3",
   "metadata": {},
   "outputs": [],
   "source": [
    "from sklearn.model_selection import train_test_split"
   ]
  },
  {
   "cell_type": "code",
   "execution_count": 85,
   "id": "de20be00",
   "metadata": {},
   "outputs": [],
   "source": [
    "'''\n",
    "이전에는 랜덤과 인덱스를 사용하여 분리했지만 train_test_split으로 간단하게 분리할 수 있음\n",
    "array는 length, weight\n",
    "test_size는 테스트 셋의 크기 비율을 결정 여기서는 default\n",
    "train_size는 test_size와 동일하게 훈련 셋의 비율을 결정 default는 테스트 셋을 제외한 나머지\n",
    "'''\n",
    "train_input, test_input, train_target, test_target = train_test_split(length,weight,random_state=42)"
   ]
  },
  {
   "cell_type": "code",
   "execution_count": 86,
   "id": "e6abf20c",
   "metadata": {},
   "outputs": [
    {
     "name": "stdout",
     "output_type": "stream",
     "text": [
      "(42,) (14,)\n"
     ]
    }
   ],
   "source": [
    "print(train_input.shape,test_input.shape)"
   ]
  },
  {
   "cell_type": "code",
   "execution_count": 87,
   "id": "d04af356",
   "metadata": {},
   "outputs": [],
   "source": [
    "#사이킷런에서는 2차원 배열로 훈련해야함 그래서 length가 1차원 배열이여서 train_input, test_input도 1차원 배열임\n",
    "#2차원 배열로 바꿔주는 게 바로 reshape()\n",
    "train_input=train_input.reshape(42,1)#reshape(-1,1)와 동일\n",
    "test_input=test_input.reshape(-1,1)#-1로 지정하면 배열의 원소 개수 정확히 모르더라고 크기 쉽게 변경 가능"
   ]
  },
  {
   "cell_type": "code",
   "execution_count": 88,
   "id": "3444e079",
   "metadata": {},
   "outputs": [
    {
     "name": "stdout",
     "output_type": "stream",
     "text": [
      "(42, 1)\n",
      "(14, 1)\n"
     ]
    }
   ],
   "source": [
    "print(train_input.shape)\n",
    "print(test_input.shape)"
   ]
  },
  {
   "cell_type": "markdown",
   "id": "e6784002",
   "metadata": {},
   "source": [
    "## 결정 계수(R^2)"
   ]
  },
  {
   "cell_type": "code",
   "execution_count": 89,
   "id": "5ad6825e",
   "metadata": {},
   "outputs": [],
   "source": [
    "from sklearn.neighbors import KNeighborsRegressor"
   ]
  },
  {
   "cell_type": "code",
   "execution_count": 90,
   "id": "58e3218f",
   "metadata": {},
   "outputs": [
    {
     "data": {
      "text/plain": [
       "KNeighborsRegressor()"
      ]
     },
     "execution_count": 90,
     "metadata": {},
     "output_type": "execute_result"
    }
   ],
   "source": [
    "knr=KNeighborsRegressor()\n",
    "knr.fit(train_input,train_target)"
   ]
  },
  {
   "cell_type": "code",
   "execution_count": 91,
   "id": "5481d409",
   "metadata": {},
   "outputs": [
    {
     "data": {
      "text/plain": [
       "0.992809406101064"
      ]
     },
     "execution_count": 91,
     "metadata": {},
     "output_type": "execute_result"
    }
   ],
   "source": [
    "knr.score(test_input,test_target)"
   ]
  },
  {
   "cell_type": "code",
   "execution_count": 92,
   "id": "6ebfe30e",
   "metadata": {},
   "outputs": [],
   "source": [
    "from sklearn.metrics import mean_absolute_error"
   ]
  },
  {
   "cell_type": "code",
   "execution_count": 93,
   "id": "0303fb51",
   "metadata": {},
   "outputs": [
    {
     "name": "stdout",
     "output_type": "stream",
     "text": [
      "19.157142857142862\n"
     ]
    }
   ],
   "source": [
    "predict_target=knr.predict(test_input)\n",
    "mae=mean_absolute_error(test_target,predict_target) #평균 절댓값 오차를 계산\n",
    "print(mae)"
   ]
  },
  {
   "cell_type": "markdown",
   "id": "2cb6b818",
   "metadata": {},
   "source": [
    "## 과대적합 vs 과소적합"
   ]
  },
  {
   "cell_type": "code",
   "execution_count": 94,
   "id": "02a97d6d",
   "metadata": {},
   "outputs": [
    {
     "name": "stdout",
     "output_type": "stream",
     "text": [
      "0.9698823289099254\n"
     ]
    }
   ],
   "source": [
    "print(knr.score(train_input,train_target))#테스트 세트 점수보다 낮음=>과소적합"
   ]
  },
  {
   "cell_type": "code",
   "execution_count": 95,
   "id": "fd853cf8",
   "metadata": {},
   "outputs": [
    {
     "name": "stdout",
     "output_type": "stream",
     "text": [
      "0.9804899950518966\n"
     ]
    }
   ],
   "source": [
    "knr.n_neighbors=3 #기본값 5에서 3으로 줄임\n",
    "knr.fit(train_input,train_target)\n",
    "print(knr.score(train_input,train_target))"
   ]
  },
  {
   "cell_type": "code",
   "execution_count": 96,
   "id": "db57bbb9",
   "metadata": {},
   "outputs": [
    {
     "name": "stdout",
     "output_type": "stream",
     "text": [
      "0.9746459963987609\n"
     ]
    }
   ],
   "source": [
    "print(knr.score(test_input,test_target)) #훈련 세트 점수가 더 크고 차이도 크지 않아서 적합"
   ]
  },
  {
   "cell_type": "code",
   "execution_count": 97,
   "id": "a2a71fd5",
   "metadata": {},
   "outputs": [
    {
     "name": "stdout",
     "output_type": "stream",
     "text": [
      "35.42380952380951\n"
     ]
    }
   ],
   "source": [
    "predict_target=knr.predict(test_input)\n",
    "mae=mean_absolute_error(test_target,predict_target) #평균 절댓값 오차를 계산\n",
    "print(mae)"
   ]
  },
  {
   "cell_type": "markdown",
   "id": "21ca06bb",
   "metadata": {},
   "source": [
    "## 확인문제"
   ]
  },
  {
   "cell_type": "code",
   "execution_count": 100,
   "id": "d5624287",
   "metadata": {},
   "outputs": [
    {
     "data": {
      "image/png": "[encoded data removed]",
      "text/plain": [
       "<Figure size 432x288 with 1 Axes>"
      ]
     },
     "metadata": {
      "needs_background": "light"
     },
     "output_type": "display_data"
    },
    {
     "data": {
      "image/png": "[encoded data removed]",
      "text/plain": [
       "<Figure size 432x288 with 1 Axes>"
      ]
     },
     "metadata": {
      "needs_background": "light"
     },
     "output_type": "display_data"
    },
    {
     "data": {
      "image/png": "[encoded data removed]",
      "text/plain": [
       "<Figure size 432x288 with 1 Axes>"
      ]
     },
     "metadata": {
      "needs_background": "light"
     },
     "output_type": "display_data"
    }
   ],
   "source": [
    "knr=KNeighborsRegressor()\n",
    "\n",
    "x=np.arange(5,45).reshape(-1,1)\n",
    "\n",
    "for i in [1,5,10]:\n",
    "    knr.n_neighbors=i\n",
    "    knr.fit(train_input,train_target)\n",
    "    predict_target=knr.predict(x)\n",
    "    plt.scatter(train_input,train_target)\n",
    "    plt.plot(x,predict_target,c=\"#555500\")\n",
    "    plt.title('n_neighbors = {}'.format(i))\n",
    "    plt.xlabel('length')\n",
    "    plt.ylabel('weight')\n",
    "    plt.show()"
   ]
  },
  {
   "cell_type": "code",
   "execution_count": 99,
   "id": "e6c925d9",
   "metadata": {},
   "outputs": [
    {
     "name": "stdout",
     "output_type": "stream",
     "text": [
      "[(1, 22.685714285714287), (2, 35.292857142857144), (3, 35.42380952380951), (4, 28.38214285714286), (5, 19.157142857142862), (6, 28.388095238095243), (7, 32.512244897959185), (8, 34.88214285714286), (9, 43.987301587301594), (10, 39.24285714285714), (11, 43.43896103896105), (12, 44.405952380952385), (13, 45.42197802197802), (14, 48.06836734693877), (15, 49.852380952380955), (16, 50.096428571428575), (17, 60.017647058823535), (18, 65.17777777777778), (19, 69.05413533834586)]\n"
     ]
    }
   ],
   "source": [
    "knr=KNeighborsRegressor()\n",
    "\n",
    "maelist=[]\n",
    "\n",
    "for i in range(1,20):\n",
    "    knr.n_neighbors=i\n",
    "    knr.fit(train_input,train_target)\n",
    "    knr.score(test_input,test_target)\n",
    "    predict_target=knr.predict(test_input)\n",
    "    mae=mean_absolute_error(test_target,predict_target)\n",
    "    maelist.append((i,mae))\n",
    "print(maelist)\n",
    "    "
   ]
  }
 ],
 "metadata": {
  "kernelspec": {
   "display_name": "Python 3 (ipykernel)",
   "language": "python",
   "name": "python3"
  },
  "language_info": {
   "codemirror_mode": {
    "name": "ipython",
    "version": 3
   },
   "file_extension": ".py",
   "mimetype": "text/x-python",
   "name": "python",
   "nbconvert_exporter": "python",
   "pygments_lexer": "ipython3",
   "version": "3.9.12"
  }
 },
 "nbformat": 4,
 "nbformat_minor": 5
}
