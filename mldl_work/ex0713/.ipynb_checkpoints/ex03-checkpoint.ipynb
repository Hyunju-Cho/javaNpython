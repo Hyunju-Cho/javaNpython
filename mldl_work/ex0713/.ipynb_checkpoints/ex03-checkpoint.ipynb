{
 "cells": [
  {
   "cell_type": "code",
   "execution_count": 1,
   "id": "fde44538",
   "metadata": {},
   "outputs": [],
   "source": [
    "import pandas as pd\n",
    "\n",
    "fish_length=[25.4, 26.3, 26.5, 29.0, 29.0, 29.7, 29.7, 30.0, 30.0, 30.7, 31.0, 31.0, \n",
    "                31.5, 32.0, 32.0, 32.0, 33.0, 33.0, 33.5, 33.5, 34.0, 34.0, 34.5, 35.0, \n",
    "                35.0, 35.0, 35.0, 36.0, 36.0, 37.0, 38.5, 38.5, 39.5, 41.0, 41.0, 9.8, \n",
    "                10.5, 10.6, 11.0, 11.2, 11.3, 11.8, 11.8, 12.0, 12.2, 12.4, 13.0, 14.3, 15.0]\n",
    "fish_weight=[242.0, 290.0, 340.0, 363.0, 430.0, 450.0, 500.0, 390.0, 450.0, 500.0, 475.0, 500.0, \n",
    "                500.0, 340.0, 600.0, 600.0, 700.0, 700.0, 610.0, 650.0, 575.0, 685.0, 620.0, 680.0, \n",
    "                700.0, 725.0, 720.0, 714.0, 850.0, 1000.0, 920.0, 955.0, 925.0, 975.0, 950.0, 6.7, \n",
    "                7.5, 7.0, 9.7, 9.8, 8.7, 10.0, 9.9, 9.8, 12.2, 13.4, 12.2, 19.7, 19.9]"
   ]
  },
  {
   "cell_type": "code",
   "execution_count": 3,
   "id": "bfcee3f4",
   "metadata": {},
   "outputs": [],
   "source": [
    "fish_target=[1]*35+[0]*14"
   ]
  },
  {
   "cell_type": "code",
   "execution_count": 4,
   "id": "a095791f",
   "metadata": {},
   "outputs": [
    {
     "name": "stdout",
     "output_type": "stream",
     "text": [
      "    length  weight  target\n",
      "0     25.4   242.0       1\n",
      "1     26.3   290.0       1\n",
      "2     26.5   340.0       1\n",
      "3     29.0   363.0       1\n",
      "4     29.0   430.0       1\n",
      "5     29.7   450.0       1\n",
      "6     29.7   500.0       1\n",
      "7     30.0   390.0       1\n",
      "8     30.0   450.0       1\n",
      "9     30.7   500.0       1\n",
      "10    31.0   475.0       1\n",
      "11    31.0   500.0       1\n",
      "12    31.5   500.0       1\n",
      "13    32.0   340.0       1\n",
      "14    32.0   600.0       1\n",
      "15    32.0   600.0       1\n",
      "16    33.0   700.0       1\n",
      "17    33.0   700.0       1\n",
      "18    33.5   610.0       1\n",
      "19    33.5   650.0       1\n",
      "20    34.0   575.0       1\n",
      "21    34.0   685.0       1\n",
      "22    34.5   620.0       1\n",
      "23    35.0   680.0       1\n",
      "24    35.0   700.0       1\n",
      "25    35.0   725.0       1\n",
      "26    35.0   720.0       1\n",
      "27    36.0   714.0       1\n",
      "28    36.0   850.0       1\n",
      "29    37.0  1000.0       1\n",
      "30    38.5   920.0       1\n",
      "31    38.5   955.0       1\n",
      "32    39.5   925.0       1\n",
      "33    41.0   975.0       1\n",
      "34    41.0   950.0       1\n",
      "35     9.8     6.7       0\n",
      "36    10.5     7.5       0\n",
      "37    10.6     7.0       0\n",
      "38    11.0     9.7       0\n",
      "39    11.2     9.8       0\n",
      "40    11.3     8.7       0\n",
      "41    11.8    10.0       0\n",
      "42    11.8     9.9       0\n",
      "43    12.0     9.8       0\n",
      "44    12.2    12.2       0\n",
      "45    12.4    13.4       0\n",
      "46    13.0    12.2       0\n",
      "47    14.3    19.7       0\n",
      "48    15.0    19.9       0\n"
     ]
    }
   ],
   "source": [
    "#index가 같이 출력됨\n",
    "length=pd.Series(fish_length)\n",
    "weight=pd.Series(fish_weight)\n",
    "target=pd.Series(fish_target)\n",
    "\n",
    "#시리즈가 여러 개 합쳐진 자료형\n",
    "data=pd.DataFrame({\n",
    "    \"length\":length,\n",
    "    \"weight\":weight,\n",
    "    \"target\":target\n",
    "})\n",
    "print(data)"
   ]
  },
  {
   "cell_type": "code",
   "execution_count": 5,
   "id": "4d59c982",
   "metadata": {},
   "outputs": [],
   "source": [
    "data.to_excel('data.xlsx')"
   ]
  }
 ],
 "metadata": {
  "kernelspec": {
   "display_name": "Python 3 (ipykernel)",
   "language": "python",
   "name": "python3"
  },
  "language_info": {
   "codemirror_mode": {
    "name": "ipython",
    "version": 3
   },
   "file_extension": ".py",
   "mimetype": "text/x-python",
   "name": "python",
   "nbconvert_exporter": "python",
   "pygments_lexer": "ipython3",
   "version": "3.9.12"
  }
 },
 "nbformat": 4,
 "nbformat_minor": 5
}
