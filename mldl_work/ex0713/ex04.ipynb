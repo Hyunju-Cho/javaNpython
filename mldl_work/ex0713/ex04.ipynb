{
 "cells": [
  {
   "cell_type": "code",
   "execution_count": 19,
   "id": "a2e24f4c",
   "metadata": {},
   "outputs": [
    {
     "name": "stdout",
     "output_type": "stream",
     "text": [
      "    length  weight  target\n",
      "0     25.4   242.0       1\n",
      "1     26.3   290.0       1\n",
      "2     26.5   340.0       1\n",
      "3     29.0   363.0       1\n",
      "4     29.0   430.0       1\n",
      "5     29.7   450.0       1\n",
      "6     29.7   500.0       1\n",
      "7     30.0   390.0       1\n",
      "8     30.0   450.0       1\n",
      "9     30.7   500.0       1\n",
      "10    31.0   475.0       1\n",
      "11    31.0   500.0       1\n",
      "12    31.5   500.0       1\n",
      "13    32.0   340.0       1\n",
      "14    32.0   600.0       1\n",
      "15    32.0   600.0       1\n",
      "16    33.0   700.0       1\n",
      "17    33.0   700.0       1\n",
      "18    33.5   610.0       1\n",
      "19    33.5   650.0       1\n",
      "20    34.0   575.0       1\n",
      "21    34.0   685.0       1\n",
      "22    34.5   620.0       1\n",
      "23    35.0   680.0       1\n",
      "24    35.0   700.0       1\n",
      "25    35.0   725.0       1\n",
      "26    35.0   720.0       1\n",
      "27    36.0   714.0       1\n",
      "28    36.0   850.0       1\n",
      "29    37.0  1000.0       1\n",
      "30    38.5   920.0       1\n",
      "31    38.5   955.0       1\n",
      "32    39.5   925.0       1\n",
      "33    41.0   975.0       1\n",
      "34    41.0   950.0       1\n",
      "35     9.8     6.7       0\n",
      "36    10.5     7.5       0\n",
      "37    10.6     7.0       0\n",
      "38    11.0     9.7       0\n",
      "39    11.2     9.8       0\n",
      "40    11.3     8.7       0\n",
      "41    11.8    10.0       0\n",
      "42    11.8     9.9       0\n",
      "43    12.0     9.8       0\n",
      "44    12.2    12.2       0\n",
      "45    12.4    13.4       0\n",
      "46    13.0    12.2       0\n",
      "47    14.3    19.7       0\n",
      "48    15.0    19.9       0\n"
     ]
    }
   ],
   "source": [
    "import pandas as pd\n",
    "import numpy as np\n",
    "import matplotlib.pyplot as plt\n",
    "from sklearn.neighbors import KNeighborsClassifier\n",
    "\n",
    "data=pd.read_excel('data.xlsx')\n",
    "cols=data.columns[~data.columns.str.startswith('Unnamed:')]\n",
    "print(data[cols])"
   ]
  },
  {
   "cell_type": "code",
   "execution_count": 20,
   "id": "d6846ce9",
   "metadata": {},
   "outputs": [
    {
     "name": "stdout",
     "output_type": "stream",
     "text": [
      "[25.4 26.3 26.5 29.  29. ]\n",
      "[242. 290. 340. 363. 430.]\n",
      "[1 1 1 1 1]\n"
     ]
    }
   ],
   "source": [
    "length=data['length'].to_numpy()\n",
    "weight=data['weight'].to_numpy()\n",
    "target=data['target'].to_numpy()\n",
    "\n",
    "print(length[:5])\n",
    "print(weight[:5])\n",
    "print(target[:5])"
   ]
  },
  {
   "cell_type": "code",
   "execution_count": 21,
   "id": "703a19dc",
   "metadata": {},
   "outputs": [
    {
     "data": {
      "image/png": "[encoded data removed]",
      "text/plain": [
       "<Figure size 432x288 with 1 Axes>"
      ]
     },
     "metadata": {
      "needs_background": "light"
     },
     "output_type": "display_data"
    }
   ],
   "source": [
    "plt.scatter(length,weight)\n",
    "plt.show()"
   ]
  },
  {
   "cell_type": "code",
   "execution_count": 22,
   "id": "f4fda674",
   "metadata": {},
   "outputs": [
    {
     "data": {
      "image/png": "[encoded data removed]",
      "text/plain": [
       "<Figure size 432x288 with 1 Axes>"
      ]
     },
     "metadata": {
      "needs_background": "light"
     },
     "output_type": "display_data"
    }
   ],
   "source": [
    "plt.scatter(length[:35],weight[:35])\n",
    "plt.scatter(length[35:],weight[35:])\n",
    "plt.show()"
   ]
  },
  {
   "cell_type": "code",
   "execution_count": 23,
   "id": "06412339",
   "metadata": {},
   "outputs": [],
   "source": [
    "data=[[l,w]for l,w in zip(length,weight)]"
   ]
  },
  {
   "cell_type": "code",
   "execution_count": 24,
   "id": "065c1ca1",
   "metadata": {},
   "outputs": [
    {
     "data": {
      "text/plain": [
       "KNeighborsClassifier()"
      ]
     },
     "execution_count": 24,
     "metadata": {},
     "output_type": "execute_result"
    }
   ],
   "source": [
    "kn=KNeighborsClassifier()\n",
    "kn.fit(data,target)"
   ]
  },
  {
   "cell_type": "code",
   "execution_count": 26,
   "id": "091a8b40",
   "metadata": {},
   "outputs": [
    {
     "name": "stdout",
     "output_type": "stream",
     "text": [
      "[1 0]\n"
     ]
    }
   ],
   "source": [
    "prevalue=kn.predict([[50,500],[10,12]])\n",
    "print(prevalue)"
   ]
  }
 ],
 "metadata": {
  "kernelspec": {
   "display_name": "Python 3 (ipykernel)",
   "language": "python",
   "name": "python3"
  },
  "language_info": {
   "codemirror_mode": {
    "name": "ipython",
    "version": 3
   },
   "file_extension": ".py",
   "mimetype": "text/x-python",
   "name": "python",
   "nbconvert_exporter": "python",
   "pygments_lexer": "ipython3",
   "version": "3.9.12"
  },
  "vscode": {
   "interpreter": {
    "hash": "c013574cf06469d88f777f327a78b72172b7814f63982137a5303771c6e72f8f"
   }
  }
 },
 "nbformat": 4,
 "nbformat_minor": 5
}
