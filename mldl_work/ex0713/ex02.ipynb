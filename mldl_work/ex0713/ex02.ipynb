{
 "cells": [
  {
   "cell_type": "code",
   "execution_count": 1,
   "id": "1e82d671",
   "metadata": {},
   "outputs": [],
   "source": [
    "import numpy as np\n",
    "\n",
    "a=[1,2,3,4,5]\n",
    "npa=np.array(a)"
   ]
  },
  {
   "cell_type": "code",
   "execution_count": 2,
   "id": "1066adfb",
   "metadata": {},
   "outputs": [
    {
     "name": "stdout",
     "output_type": "stream",
     "text": [
      "a [1, 2, 3, 4, 5, 1, 2, 3, 4, 5, 1, 2, 3, 4, 5, 1, 2, 3, 4, 5, 1, 2, 3, 4, 5]\n",
      "npa [ 5 10 15 20 25]\n"
     ]
    }
   ],
   "source": [
    "a=a*5\n",
    "npa=npa*5\n",
    "print('a',a)\n",
    "print('npa',npa)"
   ]
  },
  {
   "cell_type": "code",
   "execution_count": 3,
   "id": "35cead16",
   "metadata": {},
   "outputs": [
    {
     "name": "stdout",
     "output_type": "stream",
     "text": [
      "(5,)\n"
     ]
    }
   ],
   "source": [
    "print(npa.shape)"
   ]
  },
  {
   "cell_type": "code",
   "execution_count": 10,
   "id": "9d8bb939",
   "metadata": {},
   "outputs": [
    {
     "name": "stdout",
     "output_type": "stream",
     "text": [
      "[52 93 15 72 61]\n",
      "<class 'numpy.ndarray'>\n"
     ]
    }
   ],
   "source": [
    "np.random.seed(42)\n",
    "a=np.random.randint(1,100,5)\n",
    "print(a)\n",
    "print(type(a))"
   ]
  }
 ],
 "metadata": {
  "kernelspec": {
   "display_name": "Python 3.9.12 ('base')",
   "language": "python",
   "name": "python3"
  },
  "language_info": {
   "codemirror_mode": {
    "name": "ipython",
    "version": 3
   },
   "file_extension": ".py",
   "mimetype": "text/x-python",
   "name": "python",
   "nbconvert_exporter": "python",
   "pygments_lexer": "ipython3",
   "version": "3.9.12"
  },
  "vscode": {
   "interpreter": {
    "hash": "c013574cf06469d88f777f327a78b72172b7814f63982137a5303771c6e72f8f"
   }
  }
 },
 "nbformat": 4,
 "nbformat_minor": 5
}
